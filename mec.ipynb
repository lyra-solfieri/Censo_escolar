{
  "cells": [
    {
      "cell_type": "code",
      "execution_count": null,
      "id": "b5803f16",
      "metadata": {
        "id": "b5803f16"
      },
      "outputs": [],
      "source": [
        "!pip install plotly --upgrade\n",
        "!pip install pandas-ods-reader\n",
        "!pip install seaborn"
      ]
    },
    {
      "cell_type": "markdown",
      "id": "8833cd9a",
      "metadata": {
        "id": "8833cd9a"
      },
      "source": [
        "# Dependências"
      ]
    },
    {
      "cell_type": "code",
      "execution_count": null,
      "id": "96b7775a",
      "metadata": {
        "id": "96b7775a"
      },
      "outputs": [],
      "source": [
        "import pandas as pd\n",
        "import numpy as np\n",
        "import seaborn as sns\n",
        "import matplotlib.pyplot as plt\n",
        "import plotly.express as px\n",
        "from pandas_ods_reader import read_ods\n",
        "from sklearn.preprocessing import MinMaxScaler\n",
        "from sklearn.linear_model import LinearRegression\n",
        "from sklearn.model_selection import train_test_split\n",
        "import plotly.graph_objects as go\n",
        "from sklearn.metrics import mean_absolute_error, mean_squared_error\n",
        "from sklearn.tree import DecisionTreeRegressor\n",
        "from sklearn.preprocessing import StandardScaler\n",
        "from sklearn.neural_network import MLPRegressor"
      ]
    },
    {
      "cell_type": "markdown",
      "id": "c2796fe0",
      "metadata": {
        "id": "c2796fe0"
      },
      "source": [
        "# Datasets"
      ]
    },
    {
      "cell_type": "code",
      "source": [
        "from google.colab import drive\n",
        "drive.mount('/content/drive')"
      ],
      "metadata": {
        "colab": {
          "base_uri": "https://localhost:8080/"
        },
        "id": "xsuIgJDnCbEo",
        "outputId": "33fa6714-517d-4c8c-b1cb-f21847804ff8"
      },
      "id": "xsuIgJDnCbEo",
      "execution_count": null,
      "outputs": [
        {
          "output_type": "stream",
          "name": "stdout",
          "text": [
            "Mounted at /content/drive\n"
          ]
        }
      ]
    },
    {
      "cell_type": "code",
      "execution_count": null,
      "id": "0d593fd9",
      "metadata": {
        "id": "0d593fd9"
      },
      "outputs": [],
      "source": [
        "red_path = r'/content/drive/MyDrive/tx_rend_escolas_2021.xlsx'\n",
        "renda_escolar_dataset = pd.read_excel(red_path, header = 8)"
      ]
    },
    {
      "cell_type": "code",
      "execution_count": null,
      "id": "7d9b0857",
      "metadata": {
        "id": "7d9b0857"
      },
      "outputs": [],
      "source": [
        "ebd_path = r'/content/drive/MyDrive/microdados_ed_basica_2021.csv'\n",
        "educacao_basica_dataset = pd.read_csv(ebd_path, encoding = 'latin-1', sep = ';', dtype = 'unicode')"
      ]
    },
    {
      "cell_type": "markdown",
      "id": "ef5e03ed",
      "metadata": {
        "id": "ef5e03ed"
      },
      "source": [
        "# Dataframes iniciais"
      ]
    },
    {
      "cell_type": "code",
      "execution_count": null,
      "id": "82a15b3e",
      "metadata": {
        "id": "82a15b3e"
      },
      "outputs": [],
      "source": [
        "rendimento_escolar_dataframe = pd.DataFrame(renda_escolar_dataset)"
      ]
    },
    {
      "cell_type": "code",
      "execution_count": null,
      "id": "87225044",
      "metadata": {
        "id": "87225044"
      },
      "outputs": [],
      "source": [
        "informacao_escolar_dataframe = pd.DataFrame(educacao_basica_dataset)"
      ]
    },
    {
      "cell_type": "markdown",
      "id": "6932bd33",
      "metadata": {
        "id": "6932bd33"
      },
      "source": [
        "# Renomeando colunas"
      ]
    },
    {
      "cell_type": "code",
      "execution_count": null,
      "id": "15ffc66b",
      "metadata": {
        "id": "15ffc66b"
      },
      "outputs": [],
      "source": [
        "rendimento_escolar_dataframe = rendimento_escolar_dataframe.rename(columns={\n",
        "    \"CO_ENTIDADE\": \"Identificador_escola\",\n",
        "    \"1_CAT_FUN_AI\": \"Aprovacao_ensino_fundamental_1\",\n",
        "    \"1_CAT_FUN_AF\": \"Aprovacao_ensino_fundamental_2\",\n",
        "    \"2_CAT_FUN_AI\": \"Reprovacao_ensino_fundamental_1\",\n",
        "    \"2_CAT_FUN_AF\": \"Reprovacao_ensino_fundamental_2\",\n",
        "    \"3_CAT_FUN_AI\": \"Abandono_ensino_fundamental_1\",\n",
        "    \"3_CAT_FUN_AF\": \"Abandono_ensino_fundamental_2\"\n",
        "})"
      ]
    },
    {
      "cell_type": "code",
      "execution_count": null,
      "id": "77a042db",
      "metadata": {
        "id": "77a042db"
      },
      "outputs": [],
      "source": [
        "informacao_escolar_dataframe = informacao_escolar_dataframe.rename(columns={\n",
        "    \"CO_ENTIDADE\": \"Identificador_escola\",\n",
        "    \"IN_AGUA_POTAVEL\": \"Fornecimento_agua_potavel\",\n",
        "    \"IN_ENERGIA_INEXISTENTE\": \"Fornecimento_energia\",\n",
        "    \"IN_ESGOTO_INEXISTENTE\": \"Acesso_esgotamento_sanitario\",\n",
        "    \"IN_TRATAMENTO_LIXO_INEXISTENTE\": \"Tratamento_lixo\",\n",
        "    \"IN_AREA_VERDE\": \"Area_Verde\",\n",
        "    \"IN_BANHEIRO\": \"Acesso_banheiro\",\n",
        "    \"IN_BIBLIOTECA\": \"Biblioteca\",\n",
        "    \"IN_LABORATORIO_CIENCIAS\": \"Laboratorio_ciencias\",\n",
        "    \"IN_LABORATORIO_INFORMATICA\": \"Laboratorio_informatica\",\n",
        "    \"IN_QUADRA_ESPORTES\": \"Quadra\",\n",
        "    \"IN_REFEITORIO\": \"Refeitorio\",\n",
        "    \"IN_SALA_ATENDIMENTO_ESPECIAL\": \"Sala_atendimento_especial\",\n",
        "    \"IN_ACESSIBILIDADE_INEXISTENTE\": \"Acessibilidade\",\n",
        "    \"IN_INTERNET_ALUNOS\": \"Internet_alunos\",\n",
        "    \"IN_ALIMENTACAO\": \"Alimentação\",\n",
        "    \"TP_ATIVIDADE_COMPLEMENTAR\": \"Atividade_complementar\",\n",
        "    \"IN_FINAL_SEMANA\": \"Final_de_semana\",\n",
        "    \"IN_FUND_AI\": \"ensino_fundamental_1\",\n",
        "    \"IN_FUND_AF\": \"ensino_fundamental_2\"\n",
        "})"
      ]
    },
    {
      "cell_type": "markdown",
      "id": "c89cc4cd",
      "metadata": {
        "id": "c89cc4cd"
      },
      "source": [
        "\n",
        "\n",
        "```\n",
        "# This is formatted as code\n",
        "```\n",
        "\n",
        "# retira linhas nulas da primeira tabela"
      ]
    },
    {
      "cell_type": "code",
      "execution_count": null,
      "id": "2812e72c",
      "metadata": {
        "id": "2812e72c"
      },
      "outputs": [],
      "source": [
        "rendimento_escolar_dataframe = rendimento_escolar_dataframe.dropna(axis=0, how='any')"
      ]
    },
    {
      "cell_type": "markdown",
      "id": "10a543fe",
      "metadata": {
        "id": "10a543fe"
      },
      "source": [
        "# Filtrando as colunas que serão utilizadas"
      ]
    },
    {
      "cell_type": "markdown",
      "id": "a367258a",
      "metadata": {
        "id": "a367258a"
      },
      "source": [
        "Mantendo apenas as colunas renomeadas nas tabelas"
      ]
    },
    {
      "cell_type": "code",
      "execution_count": null,
      "id": "b267b032",
      "metadata": {
        "id": "b267b032"
      },
      "outputs": [],
      "source": [
        "rendimento_escolar_dataframe = pd.DataFrame(rendimento_escolar_dataframe, columns = ['Identificador_escola', 'Aprovacao_ensino_fundamental_1', 'Aprovacao_ensino_fundamental_2', 'Reprovacao_ensino_fundamental_1', 'Reprovacao_ensino_fundamental_2', 'Abandono_ensino_fundamental_1', 'Abandono_ensino_fundamental_2'])"
      ]
    },
    {
      "cell_type": "code",
      "execution_count": null,
      "id": "71785776",
      "metadata": {
        "id": "71785776"
      },
      "outputs": [],
      "source": [
        "informacao_escolar_dataframe = pd.DataFrame(informacao_escolar_dataframe, columns = ['Identificador_escola', 'Fornecimento_agua_potavel', 'Fornecimento_energia', 'Acesso_esgotamento_sanitario', 'Tratamento_lixo', 'Area_Verde', 'Acesso_banheiro', 'Biblioteca', 'Laboratorio_ciencias', 'Laboratorio_informatica', 'Quadra', 'Refeitorio', 'Sala_atendimento_especial', 'Acessibilidade', 'Internet_alunos', 'Alimentação', 'Atividade_complementar', 'ensino_fundamental_1', 'ensino_fundamental_2'])"
      ]
    },
    {
      "cell_type": "code",
      "execution_count": null,
      "id": "25292d97",
      "metadata": {
        "id": "25292d97",
        "colab": {
          "base_uri": "https://localhost:8080/",
          "height": 488
        },
        "outputId": "bb95a54a-d568-4245-d299-6dcb0fcbcaf1"
      },
      "outputs": [
        {
          "output_type": "execute_result",
          "data": {
            "text/plain": [
              "        Identificador_escola Fornecimento_agua_potavel Fornecimento_energia  \\\n",
              "0                   11022558                         1                    0   \n",
              "1                   11024275                         1                    0   \n",
              "2                   11024291                         1                    0   \n",
              "3                   11024372                         1                    0   \n",
              "4                   11024666                         1                    0   \n",
              "...                      ...                       ...                  ...   \n",
              "221135              53084071                       NaN                  NaN   \n",
              "221136              53085000                         1                    0   \n",
              "221137              53086007                         1                    0   \n",
              "221138              53087003                       NaN                  NaN   \n",
              "221139              53088034                       NaN                  NaN   \n",
              "\n",
              "       Acesso_esgotamento_sanitario Tratamento_lixo Area_Verde  \\\n",
              "0                                 1               1          0   \n",
              "1                                 0               1          0   \n",
              "2                                 0               1          0   \n",
              "3                                 0               1          0   \n",
              "4                                 0               1          0   \n",
              "...                             ...             ...        ...   \n",
              "221135                          NaN             NaN        NaN   \n",
              "221136                            0               0          1   \n",
              "221137                            0               0          1   \n",
              "221138                          NaN             NaN        NaN   \n",
              "221139                          NaN             NaN        NaN   \n",
              "\n",
              "       Acesso_banheiro Biblioteca Laboratorio_ciencias  \\\n",
              "0                    1          0                    0   \n",
              "1                    1          1                    1   \n",
              "2                    1          0                    0   \n",
              "3                    1          1                    0   \n",
              "4                    1          0                    0   \n",
              "...                ...        ...                  ...   \n",
              "221135             NaN        NaN                  NaN   \n",
              "221136               1          1                    1   \n",
              "221137               1          1                    1   \n",
              "221138             NaN        NaN                  NaN   \n",
              "221139             NaN        NaN                  NaN   \n",
              "\n",
              "       Laboratorio_informatica Quadra Refeitorio Sala_atendimento_especial  \\\n",
              "0                            0      0          0                         0   \n",
              "1                            1      1          1                         0   \n",
              "2                            0      0          0                         0   \n",
              "3                            0      1          1                         0   \n",
              "4                            0      1          0                         0   \n",
              "...                        ...    ...        ...                       ...   \n",
              "221135                     NaN    NaN        NaN                       NaN   \n",
              "221136                       1      0          0                         0   \n",
              "221137                       1      1          1                         0   \n",
              "221138                     NaN    NaN        NaN                       NaN   \n",
              "221139                     NaN    NaN        NaN                       NaN   \n",
              "\n",
              "       Acessibilidade Internet_alunos Alimentação Atividade_complementar  \\\n",
              "0                   1               0           1                      0   \n",
              "1                   0               1           1                      0   \n",
              "2                   1               0           1                      0   \n",
              "3                   1               0           1                      0   \n",
              "4                   1               0           1                      0   \n",
              "...               ...             ...         ...                    ...   \n",
              "221135            NaN             NaN         NaN                    NaN   \n",
              "221136              0               1           0                      0   \n",
              "221137              0               1           0                      0   \n",
              "221138            NaN             NaN         NaN                    NaN   \n",
              "221139            NaN             NaN         NaN                    NaN   \n",
              "\n",
              "       ensino_fundamental_1 ensino_fundamental_2  \n",
              "0                         1                    0  \n",
              "1                         0                    0  \n",
              "2                         1                    0  \n",
              "3                         1                    1  \n",
              "4                         1                    1  \n",
              "...                     ...                  ...  \n",
              "221135                  NaN                  NaN  \n",
              "221136                    1                    0  \n",
              "221137                    0                    1  \n",
              "221138                  NaN                  NaN  \n",
              "221139                  NaN                  NaN  \n",
              "\n",
              "[221140 rows x 19 columns]"
            ],
            "text/html": [
              "\n",
              "  <div id=\"df-fb9907f9-45ae-447f-9775-135afb80a47c\">\n",
              "    <div class=\"colab-df-container\">\n",
              "      <div>\n",
              "<style scoped>\n",
              "    .dataframe tbody tr th:only-of-type {\n",
              "        vertical-align: middle;\n",
              "    }\n",
              "\n",
              "    .dataframe tbody tr th {\n",
              "        vertical-align: top;\n",
              "    }\n",
              "\n",
              "    .dataframe thead th {\n",
              "        text-align: right;\n",
              "    }\n",
              "</style>\n",
              "<table border=\"1\" class=\"dataframe\">\n",
              "  <thead>\n",
              "    <tr style=\"text-align: right;\">\n",
              "      <th></th>\n",
              "      <th>Identificador_escola</th>\n",
              "      <th>Fornecimento_agua_potavel</th>\n",
              "      <th>Fornecimento_energia</th>\n",
              "      <th>Acesso_esgotamento_sanitario</th>\n",
              "      <th>Tratamento_lixo</th>\n",
              "      <th>Area_Verde</th>\n",
              "      <th>Acesso_banheiro</th>\n",
              "      <th>Biblioteca</th>\n",
              "      <th>Laboratorio_ciencias</th>\n",
              "      <th>Laboratorio_informatica</th>\n",
              "      <th>Quadra</th>\n",
              "      <th>Refeitorio</th>\n",
              "      <th>Sala_atendimento_especial</th>\n",
              "      <th>Acessibilidade</th>\n",
              "      <th>Internet_alunos</th>\n",
              "      <th>Alimentação</th>\n",
              "      <th>Atividade_complementar</th>\n",
              "      <th>ensino_fundamental_1</th>\n",
              "      <th>ensino_fundamental_2</th>\n",
              "    </tr>\n",
              "  </thead>\n",
              "  <tbody>\n",
              "    <tr>\n",
              "      <th>0</th>\n",
              "      <td>11022558</td>\n",
              "      <td>1</td>\n",
              "      <td>0</td>\n",
              "      <td>1</td>\n",
              "      <td>1</td>\n",
              "      <td>0</td>\n",
              "      <td>1</td>\n",
              "      <td>0</td>\n",
              "      <td>0</td>\n",
              "      <td>0</td>\n",
              "      <td>0</td>\n",
              "      <td>0</td>\n",
              "      <td>0</td>\n",
              "      <td>1</td>\n",
              "      <td>0</td>\n",
              "      <td>1</td>\n",
              "      <td>0</td>\n",
              "      <td>1</td>\n",
              "      <td>0</td>\n",
              "    </tr>\n",
              "    <tr>\n",
              "      <th>1</th>\n",
              "      <td>11024275</td>\n",
              "      <td>1</td>\n",
              "      <td>0</td>\n",
              "      <td>0</td>\n",
              "      <td>1</td>\n",
              "      <td>0</td>\n",
              "      <td>1</td>\n",
              "      <td>1</td>\n",
              "      <td>1</td>\n",
              "      <td>1</td>\n",
              "      <td>1</td>\n",
              "      <td>1</td>\n",
              "      <td>0</td>\n",
              "      <td>0</td>\n",
              "      <td>1</td>\n",
              "      <td>1</td>\n",
              "      <td>0</td>\n",
              "      <td>0</td>\n",
              "      <td>0</td>\n",
              "    </tr>\n",
              "    <tr>\n",
              "      <th>2</th>\n",
              "      <td>11024291</td>\n",
              "      <td>1</td>\n",
              "      <td>0</td>\n",
              "      <td>0</td>\n",
              "      <td>1</td>\n",
              "      <td>0</td>\n",
              "      <td>1</td>\n",
              "      <td>0</td>\n",
              "      <td>0</td>\n",
              "      <td>0</td>\n",
              "      <td>0</td>\n",
              "      <td>0</td>\n",
              "      <td>0</td>\n",
              "      <td>1</td>\n",
              "      <td>0</td>\n",
              "      <td>1</td>\n",
              "      <td>0</td>\n",
              "      <td>1</td>\n",
              "      <td>0</td>\n",
              "    </tr>\n",
              "    <tr>\n",
              "      <th>3</th>\n",
              "      <td>11024372</td>\n",
              "      <td>1</td>\n",
              "      <td>0</td>\n",
              "      <td>0</td>\n",
              "      <td>1</td>\n",
              "      <td>0</td>\n",
              "      <td>1</td>\n",
              "      <td>1</td>\n",
              "      <td>0</td>\n",
              "      <td>0</td>\n",
              "      <td>1</td>\n",
              "      <td>1</td>\n",
              "      <td>0</td>\n",
              "      <td>1</td>\n",
              "      <td>0</td>\n",
              "      <td>1</td>\n",
              "      <td>0</td>\n",
              "      <td>1</td>\n",
              "      <td>1</td>\n",
              "    </tr>\n",
              "    <tr>\n",
              "      <th>4</th>\n",
              "      <td>11024666</td>\n",
              "      <td>1</td>\n",
              "      <td>0</td>\n",
              "      <td>0</td>\n",
              "      <td>1</td>\n",
              "      <td>0</td>\n",
              "      <td>1</td>\n",
              "      <td>0</td>\n",
              "      <td>0</td>\n",
              "      <td>0</td>\n",
              "      <td>1</td>\n",
              "      <td>0</td>\n",
              "      <td>0</td>\n",
              "      <td>1</td>\n",
              "      <td>0</td>\n",
              "      <td>1</td>\n",
              "      <td>0</td>\n",
              "      <td>1</td>\n",
              "      <td>1</td>\n",
              "    </tr>\n",
              "    <tr>\n",
              "      <th>...</th>\n",
              "      <td>...</td>\n",
              "      <td>...</td>\n",
              "      <td>...</td>\n",
              "      <td>...</td>\n",
              "      <td>...</td>\n",
              "      <td>...</td>\n",
              "      <td>...</td>\n",
              "      <td>...</td>\n",
              "      <td>...</td>\n",
              "      <td>...</td>\n",
              "      <td>...</td>\n",
              "      <td>...</td>\n",
              "      <td>...</td>\n",
              "      <td>...</td>\n",
              "      <td>...</td>\n",
              "      <td>...</td>\n",
              "      <td>...</td>\n",
              "      <td>...</td>\n",
              "      <td>...</td>\n",
              "    </tr>\n",
              "    <tr>\n",
              "      <th>221135</th>\n",
              "      <td>53084071</td>\n",
              "      <td>NaN</td>\n",
              "      <td>NaN</td>\n",
              "      <td>NaN</td>\n",
              "      <td>NaN</td>\n",
              "      <td>NaN</td>\n",
              "      <td>NaN</td>\n",
              "      <td>NaN</td>\n",
              "      <td>NaN</td>\n",
              "      <td>NaN</td>\n",
              "      <td>NaN</td>\n",
              "      <td>NaN</td>\n",
              "      <td>NaN</td>\n",
              "      <td>NaN</td>\n",
              "      <td>NaN</td>\n",
              "      <td>NaN</td>\n",
              "      <td>NaN</td>\n",
              "      <td>NaN</td>\n",
              "      <td>NaN</td>\n",
              "    </tr>\n",
              "    <tr>\n",
              "      <th>221136</th>\n",
              "      <td>53085000</td>\n",
              "      <td>1</td>\n",
              "      <td>0</td>\n",
              "      <td>0</td>\n",
              "      <td>0</td>\n",
              "      <td>1</td>\n",
              "      <td>1</td>\n",
              "      <td>1</td>\n",
              "      <td>1</td>\n",
              "      <td>1</td>\n",
              "      <td>0</td>\n",
              "      <td>0</td>\n",
              "      <td>0</td>\n",
              "      <td>0</td>\n",
              "      <td>1</td>\n",
              "      <td>0</td>\n",
              "      <td>0</td>\n",
              "      <td>1</td>\n",
              "      <td>0</td>\n",
              "    </tr>\n",
              "    <tr>\n",
              "      <th>221137</th>\n",
              "      <td>53086007</td>\n",
              "      <td>1</td>\n",
              "      <td>0</td>\n",
              "      <td>0</td>\n",
              "      <td>0</td>\n",
              "      <td>1</td>\n",
              "      <td>1</td>\n",
              "      <td>1</td>\n",
              "      <td>1</td>\n",
              "      <td>1</td>\n",
              "      <td>1</td>\n",
              "      <td>1</td>\n",
              "      <td>0</td>\n",
              "      <td>0</td>\n",
              "      <td>1</td>\n",
              "      <td>0</td>\n",
              "      <td>0</td>\n",
              "      <td>0</td>\n",
              "      <td>1</td>\n",
              "    </tr>\n",
              "    <tr>\n",
              "      <th>221138</th>\n",
              "      <td>53087003</td>\n",
              "      <td>NaN</td>\n",
              "      <td>NaN</td>\n",
              "      <td>NaN</td>\n",
              "      <td>NaN</td>\n",
              "      <td>NaN</td>\n",
              "      <td>NaN</td>\n",
              "      <td>NaN</td>\n",
              "      <td>NaN</td>\n",
              "      <td>NaN</td>\n",
              "      <td>NaN</td>\n",
              "      <td>NaN</td>\n",
              "      <td>NaN</td>\n",
              "      <td>NaN</td>\n",
              "      <td>NaN</td>\n",
              "      <td>NaN</td>\n",
              "      <td>NaN</td>\n",
              "      <td>NaN</td>\n",
              "      <td>NaN</td>\n",
              "    </tr>\n",
              "    <tr>\n",
              "      <th>221139</th>\n",
              "      <td>53088034</td>\n",
              "      <td>NaN</td>\n",
              "      <td>NaN</td>\n",
              "      <td>NaN</td>\n",
              "      <td>NaN</td>\n",
              "      <td>NaN</td>\n",
              "      <td>NaN</td>\n",
              "      <td>NaN</td>\n",
              "      <td>NaN</td>\n",
              "      <td>NaN</td>\n",
              "      <td>NaN</td>\n",
              "      <td>NaN</td>\n",
              "      <td>NaN</td>\n",
              "      <td>NaN</td>\n",
              "      <td>NaN</td>\n",
              "      <td>NaN</td>\n",
              "      <td>NaN</td>\n",
              "      <td>NaN</td>\n",
              "      <td>NaN</td>\n",
              "    </tr>\n",
              "  </tbody>\n",
              "</table>\n",
              "<p>221140 rows × 19 columns</p>\n",
              "</div>\n",
              "      <button class=\"colab-df-convert\" onclick=\"convertToInteractive('df-fb9907f9-45ae-447f-9775-135afb80a47c')\"\n",
              "              title=\"Convert this dataframe to an interactive table.\"\n",
              "              style=\"display:none;\">\n",
              "        \n",
              "  <svg xmlns=\"http://www.w3.org/2000/svg\" height=\"24px\"viewBox=\"0 0 24 24\"\n",
              "       width=\"24px\">\n",
              "    <path d=\"M0 0h24v24H0V0z\" fill=\"none\"/>\n",
              "    <path d=\"M18.56 5.44l.94 2.06.94-2.06 2.06-.94-2.06-.94-.94-2.06-.94 2.06-2.06.94zm-11 1L8.5 8.5l.94-2.06 2.06-.94-2.06-.94L8.5 2.5l-.94 2.06-2.06.94zm10 10l.94 2.06.94-2.06 2.06-.94-2.06-.94-.94-2.06-.94 2.06-2.06.94z\"/><path d=\"M17.41 7.96l-1.37-1.37c-.4-.4-.92-.59-1.43-.59-.52 0-1.04.2-1.43.59L10.3 9.45l-7.72 7.72c-.78.78-.78 2.05 0 2.83L4 21.41c.39.39.9.59 1.41.59.51 0 1.02-.2 1.41-.59l7.78-7.78 2.81-2.81c.8-.78.8-2.07 0-2.86zM5.41 20L4 18.59l7.72-7.72 1.47 1.35L5.41 20z\"/>\n",
              "  </svg>\n",
              "      </button>\n",
              "      \n",
              "  <style>\n",
              "    .colab-df-container {\n",
              "      display:flex;\n",
              "      flex-wrap:wrap;\n",
              "      gap: 12px;\n",
              "    }\n",
              "\n",
              "    .colab-df-convert {\n",
              "      background-color: #E8F0FE;\n",
              "      border: none;\n",
              "      border-radius: 50%;\n",
              "      cursor: pointer;\n",
              "      display: none;\n",
              "      fill: #1967D2;\n",
              "      height: 32px;\n",
              "      padding: 0 0 0 0;\n",
              "      width: 32px;\n",
              "    }\n",
              "\n",
              "    .colab-df-convert:hover {\n",
              "      background-color: #E2EBFA;\n",
              "      box-shadow: 0px 1px 2px rgba(60, 64, 67, 0.3), 0px 1px 3px 1px rgba(60, 64, 67, 0.15);\n",
              "      fill: #174EA6;\n",
              "    }\n",
              "\n",
              "    [theme=dark] .colab-df-convert {\n",
              "      background-color: #3B4455;\n",
              "      fill: #D2E3FC;\n",
              "    }\n",
              "\n",
              "    [theme=dark] .colab-df-convert:hover {\n",
              "      background-color: #434B5C;\n",
              "      box-shadow: 0px 1px 3px 1px rgba(0, 0, 0, 0.15);\n",
              "      filter: drop-shadow(0px 1px 2px rgba(0, 0, 0, 0.3));\n",
              "      fill: #FFFFFF;\n",
              "    }\n",
              "  </style>\n",
              "\n",
              "      <script>\n",
              "        const buttonEl =\n",
              "          document.querySelector('#df-fb9907f9-45ae-447f-9775-135afb80a47c button.colab-df-convert');\n",
              "        buttonEl.style.display =\n",
              "          google.colab.kernel.accessAllowed ? 'block' : 'none';\n",
              "\n",
              "        async function convertToInteractive(key) {\n",
              "          const element = document.querySelector('#df-fb9907f9-45ae-447f-9775-135afb80a47c');\n",
              "          const dataTable =\n",
              "            await google.colab.kernel.invokeFunction('convertToInteractive',\n",
              "                                                     [key], {});\n",
              "          if (!dataTable) return;\n",
              "\n",
              "          const docLinkHtml = 'Like what you see? Visit the ' +\n",
              "            '<a target=\"_blank\" href=https://colab.research.google.com/notebooks/data_table.ipynb>data table notebook</a>'\n",
              "            + ' to learn more about interactive tables.';\n",
              "          element.innerHTML = '';\n",
              "          dataTable['output_type'] = 'display_data';\n",
              "          await google.colab.output.renderOutput(dataTable, element);\n",
              "          const docLink = document.createElement('div');\n",
              "          docLink.innerHTML = docLinkHtml;\n",
              "          element.appendChild(docLink);\n",
              "        }\n",
              "      </script>\n",
              "    </div>\n",
              "  </div>\n",
              "  "
            ]
          },
          "metadata": {},
          "execution_count": 18
        }
      ],
      "source": [
        "informacao_escolar_dataframe"
      ]
    },
    {
      "cell_type": "markdown",
      "id": "bd461ae6",
      "metadata": {
        "id": "bd461ae6"
      },
      "source": [
        "# Dando merge nas tabelas"
      ]
    },
    {
      "cell_type": "markdown",
      "id": "5a856930",
      "metadata": {
        "id": "5a856930"
      },
      "source": [
        "Primeiro precisei converter os valores das colunas identificador em ambas as tabelas para inteiros"
      ]
    },
    {
      "cell_type": "code",
      "execution_count": null,
      "id": "879406d7",
      "metadata": {
        "scrolled": false,
        "id": "879406d7"
      },
      "outputs": [],
      "source": [
        "rendimento_escolar_dataframe['Identificador_escola']=rendimento_escolar_dataframe['Identificador_escola'].astype(int)\n",
        "informacao_escolar_dataframe['Identificador_escola']=informacao_escolar_dataframe['Identificador_escola'].astype(int)"
      ]
    },
    {
      "cell_type": "markdown",
      "id": "dbfe0831",
      "metadata": {
        "id": "dbfe0831"
      },
      "source": [
        "Merge em um novo dataframe"
      ]
    },
    {
      "cell_type": "code",
      "execution_count": null,
      "id": "344f77d8",
      "metadata": {
        "id": "344f77d8"
      },
      "outputs": [],
      "source": [
        "dados_escolares_dataframe = pd.merge(rendimento_escolar_dataframe, informacao_escolar_dataframe, how = 'left', left_on = ['Identificador_escola'], right_on = ['Identificador_escola'])"
      ]
    },
    {
      "cell_type": "markdown",
      "id": "b361659d",
      "metadata": {
        "id": "b361659d"
      },
      "source": [
        "# Divisão no dataframe"
      ]
    },
    {
      "cell_type": "code",
      "execution_count": null,
      "id": "097cabf9",
      "metadata": {
        "id": "097cabf9"
      },
      "outputs": [],
      "source": [
        "dados_fundamental_1_df = dados_escolares_dataframe.drop(dados_escolares_dataframe.columns[[2, 4, 6, 24]], axis = 1)"
      ]
    },
    {
      "cell_type": "code",
      "execution_count": null,
      "id": "9f880fef",
      "metadata": {
        "id": "9f880fef"
      },
      "outputs": [],
      "source": [
        "dados_fundamental_2_df = dados_escolares_dataframe.drop(dados_escolares_dataframe.columns[[1, 3, 5, 23]], axis = 1)"
      ]
    },
    {
      "cell_type": "markdown",
      "id": "6d0faff6",
      "metadata": {
        "id": "6d0faff6"
      },
      "source": [
        "# Filtrando linhas"
      ]
    },
    {
      "cell_type": "code",
      "execution_count": null,
      "id": "8fd3bdf3",
      "metadata": {
        "id": "8fd3bdf3"
      },
      "outputs": [],
      "source": [
        "dados_fundamental_1_df = dados_fundamental_1_df[dados_fundamental_1_df['ensino_fundamental_1'] != '0']"
      ]
    },
    {
      "cell_type": "code",
      "execution_count": null,
      "id": "4b5e0490",
      "metadata": {
        "id": "4b5e0490"
      },
      "outputs": [],
      "source": [
        "dados_fundamental_2_df = dados_fundamental_2_df[dados_fundamental_2_df['ensino_fundamental_2'] != '0']"
      ]
    },
    {
      "cell_type": "code",
      "execution_count": null,
      "id": "a0fd3fcd",
      "metadata": {
        "scrolled": true,
        "id": "a0fd3fcd"
      },
      "outputs": [],
      "source": [
        "print(dados_fundamental_1_df.isna().sum())"
      ]
    },
    {
      "cell_type": "code",
      "execution_count": null,
      "id": "9107c6b6",
      "metadata": {
        "scrolled": false,
        "id": "9107c6b6"
      },
      "outputs": [],
      "source": [
        "print(dados_fundamental_2_df.isna().sum())"
      ]
    },
    {
      "cell_type": "markdown",
      "id": "398cd5ba",
      "metadata": {
        "id": "398cd5ba"
      },
      "source": [
        "# Gráficos dos dados das escolas"
      ]
    },
    {
      "cell_type": "markdown",
      "id": "ef85bc11",
      "metadata": {
        "id": "ef85bc11"
      },
      "source": [
        "Fornecimento de agua potavel"
      ]
    },
    {
      "cell_type": "code",
      "execution_count": null,
      "id": "64779974",
      "metadata": {
        "id": "64779974",
        "colab": {
          "base_uri": "https://localhost:8080/",
          "height": 280
        },
        "outputId": "e16a287d-6127-4d68-c3e9-494dd32c6a08"
      },
      "outputs": [
        {
          "output_type": "display_data",
          "data": {
            "text/plain": [
              "<Figure size 432x288 with 1 Axes>"
            ],
            "image/png": "[encoded data removed]"
          },
          "metadata": {
            "needs_background": "light"
          }
        }
      ],
      "source": [
        "np.unique(dados_fundamental_1_df['Fornecimento_agua_potavel'], return_counts = True)\n",
        "sns.countplot(x = dados_fundamental_1_df['Fornecimento_agua_potavel']);"
      ]
    },
    {
      "cell_type": "markdown",
      "id": "22c82fa9",
      "metadata": {
        "id": "22c82fa9"
      },
      "source": [
        "#Fornecimento de energia do Fundamental 1 e dois"
      ]
    },
    {
      "cell_type": "code",
      "execution_count": null,
      "id": "03789417",
      "metadata": {
        "scrolled": true,
        "id": "03789417",
        "colab": {
          "base_uri": "https://localhost:8080/",
          "height": 280
        },
        "outputId": "e6482729-d3f2-4ba8-81f2-3c378cc2953d"
      },
      "outputs": [
        {
          "output_type": "display_data",
          "data": {
            "text/plain": [
              "<Figure size 432x288 with 1 Axes>"
            ],
            "image/png": "[encoded data removed]"
          },
          "metadata": {
            "needs_background": "light"
          }
        }
      ],
      "source": [
        "np.unique(dados_fundamental_1_df['Fornecimento_energia'], return_counts = True)\n",
        "sns.countplot(x = dados_fundamental_1_df['Fornecimento_energia']);"
      ]
    },
    {
      "cell_type": "code",
      "execution_count": null,
      "id": "021a6501",
      "metadata": {
        "scrolled": true,
        "id": "021a6501"
      },
      "outputs": [],
      "source": [
        "np.unique(dados_fundamental_2_df['Fornecimento_energia'], return_counts = True)\n",
        "sns.countplot(x = dados_fundamental_2_df['Fornecimento_energia']);"
      ]
    },
    {
      "cell_type": "markdown",
      "id": "88e4f6c5",
      "metadata": {
        "id": "88e4f6c5"
      },
      "source": [
        "Acesso a esgotamento sanitario"
      ]
    },
    {
      "cell_type": "code",
      "execution_count": null,
      "id": "fd0dad4d",
      "metadata": {
        "id": "fd0dad4d"
      },
      "outputs": [],
      "source": [
        "np.unique(dados_fundamental_1_df['Acesso_esgotamento_sanitario'], return_counts = True)\n",
        "sns.countplot(x = dados_fundamental_1_df['Acesso_esgotamento_sanitario']);"
      ]
    },
    {
      "cell_type": "code",
      "execution_count": null,
      "id": "97c4e9ba",
      "metadata": {
        "id": "97c4e9ba"
      },
      "outputs": [],
      "source": [
        "np.unique(dados_fundamental_1_df['Acesso_esgotamento_sanitario'], return_counts = True)\n",
        "sns.countplot(x = dados_fundamental_1_df['Acesso_esgotamento_sanitario']);"
      ]
    },
    {
      "cell_type": "markdown",
      "id": "6dc62a83",
      "metadata": {
        "id": "6dc62a83"
      },
      "source": [
        "Tratamento de lixo"
      ]
    },
    {
      "cell_type": "code",
      "execution_count": null,
      "id": "b3dfdcf8",
      "metadata": {
        "id": "b3dfdcf8",
        "colab": {
          "base_uri": "https://localhost:8080/",
          "height": 280
        },
        "outputId": "37f20a91-6bcc-4eb8-9f1c-1f8e50d9fbfa"
      },
      "outputs": [
        {
          "output_type": "display_data",
          "data": {
            "text/plain": [
              "<Figure size 432x288 with 1 Axes>"
            ],
            "image/png": "[encoded data removed]"
          },
          "metadata": {
            "needs_background": "light"
          }
        }
      ],
      "source": [
        "np.unique(dados_fundamental_1_df['Tratamento_lixo'], return_counts = True)\n",
        "sns.countplot(x = dados_fundamental_1_df['Tratamento_lixo']);"
      ]
    },
    {
      "cell_type": "code",
      "execution_count": null,
      "id": "e9566216",
      "metadata": {
        "id": "e9566216"
      },
      "outputs": [],
      "source": [
        "np.unique(dados_fundamental_2_df['Tratamento_lixo'], return_counts = True)\n",
        "sns.countplot(x = dados_fundamental_2_df['Tratamento_lixo']);"
      ]
    },
    {
      "cell_type": "code",
      "execution_count": null,
      "id": "35200b3b",
      "metadata": {
        "id": "35200b3b"
      },
      "outputs": [],
      "source": [
        "dados_fundamental_1_df = dados_fundamental_1_df.drop(labels='Tratamento_lixo', axis=1)"
      ]
    },
    {
      "cell_type": "markdown",
      "id": "77fc2dda",
      "metadata": {
        "id": "77fc2dda"
      },
      "source": [
        "Area verde"
      ]
    },
    {
      "cell_type": "code",
      "execution_count": null,
      "id": "f6411380",
      "metadata": {
        "id": "f6411380",
        "colab": {
          "base_uri": "https://localhost:8080/",
          "height": 280
        },
        "outputId": "b74e15ae-d82d-4e77-b23a-da0dc8607296"
      },
      "outputs": [
        {
          "output_type": "display_data",
          "data": {
            "text/plain": [
              "<Figure size 432x288 with 1 Axes>"
            ],
            "image/png": "[encoded data removed]"
          },
          "metadata": {
            "needs_background": "light"
          }
        }
      ],
      "source": [
        "np.unique(dados_fundamental_1_df['Area_Verde'], return_counts = True)\n",
        "sns.countplot(x = dados_fundamental_1_df['Area_Verde']);"
      ]
    },
    {
      "cell_type": "code",
      "execution_count": null,
      "id": "fa86961a",
      "metadata": {
        "id": "fa86961a"
      },
      "outputs": [],
      "source": [
        "np.unique(dados_fundamental_1_df['Area_Verde'], return_counts = True)\n",
        "sns.countplot(x = dados_fundamental_1_df['Area_Verde']);"
      ]
    },
    {
      "cell_type": "markdown",
      "id": "845d7ba0",
      "metadata": {
        "id": "845d7ba0"
      },
      "source": [
        "Acesso banheiro"
      ]
    },
    {
      "cell_type": "code",
      "execution_count": null,
      "id": "ebb4aa13",
      "metadata": {
        "id": "ebb4aa13"
      },
      "outputs": [],
      "source": [
        "np.unique(dados_fundamental_1_df['Acesso_banheiro'], return_counts = True)\n",
        "sns.countplot(x = dados_fundamental_1_df['Acesso_banheiro']);"
      ]
    },
    {
      "cell_type": "code",
      "execution_count": null,
      "id": "25480b76",
      "metadata": {
        "id": "25480b76"
      },
      "outputs": [],
      "source": [
        "np.unique(dados_fundamental_1_df['Acesso_banheiro'], return_counts = True)\n",
        "sns.countplot(x = dados_fundamental_1_df['Acesso_banheiro']);"
      ]
    },
    {
      "cell_type": "markdown",
      "id": "5094a244",
      "metadata": {
        "id": "5094a244"
      },
      "source": [
        "Biblioteca"
      ]
    },
    {
      "cell_type": "code",
      "execution_count": null,
      "id": "6b2e7dbd",
      "metadata": {
        "id": "6b2e7dbd"
      },
      "outputs": [],
      "source": [
        "np.unique(dados_fundamental_1_df['Biblioteca'], return_counts = True)\n",
        "sns.countplot(x = dados_fundamental_1_df['Biblioteca']);"
      ]
    },
    {
      "cell_type": "code",
      "execution_count": null,
      "id": "d8fed27a",
      "metadata": {
        "id": "d8fed27a"
      },
      "outputs": [],
      "source": [
        "np.unique(dados_fundamental_1_df['Biblioteca'], return_counts = True)\n",
        "sns.countplot(x = dados_fundamental_1_df['Biblioteca']);"
      ]
    },
    {
      "cell_type": "markdown",
      "id": "ec63868a",
      "metadata": {
        "id": "ec63868a"
      },
      "source": [
        "Laboratorio de ciencias"
      ]
    },
    {
      "cell_type": "code",
      "execution_count": null,
      "id": "a002e7ec",
      "metadata": {
        "id": "a002e7ec"
      },
      "outputs": [],
      "source": [
        "np.unique(dados_fundamental_1_df['Laboratorio_ciencias'], return_counts = True)\n",
        "sns.countplot(x = dados_fundamental_1_df['Laboratorio_ciencias']);"
      ]
    },
    {
      "cell_type": "code",
      "execution_count": null,
      "id": "908fa2e1",
      "metadata": {
        "id": "908fa2e1"
      },
      "outputs": [],
      "source": [
        "np.unique(dados_fundamental_1_df['Laboratorio_ciencias'], return_counts = True)\n",
        "sns.countplot(x = dados_fundamental_1_df['Laboratorio_ciencias']);"
      ]
    },
    {
      "cell_type": "markdown",
      "id": "b07d4fb5",
      "metadata": {
        "id": "b07d4fb5"
      },
      "source": [
        "Laboratorio de informatica"
      ]
    },
    {
      "cell_type": "code",
      "execution_count": null,
      "id": "e0b79a04",
      "metadata": {
        "id": "e0b79a04"
      },
      "outputs": [],
      "source": [
        "np.unique(dados_fundamental_1_df['Laboratorio_informatica'], return_counts = True)\n",
        "sns.countplot(x = dados_fundamental_1_df['Laboratorio_informatica']);"
      ]
    },
    {
      "cell_type": "code",
      "execution_count": null,
      "id": "8c923b3b",
      "metadata": {
        "id": "8c923b3b"
      },
      "outputs": [],
      "source": [
        "np.unique(dados_fundamental_1_df['Laboratorio_informatica'], return_counts = True)\n",
        "sns.countplot(x = dados_fundamental_1_df['Laboratorio_informatica']);"
      ]
    },
    {
      "cell_type": "markdown",
      "id": "ca32d050",
      "metadata": {
        "id": "ca32d050"
      },
      "source": [
        "Quadra"
      ]
    },
    {
      "cell_type": "code",
      "execution_count": null,
      "id": "e059ee7e",
      "metadata": {
        "id": "e059ee7e"
      },
      "outputs": [],
      "source": [
        "np.unique(dados_fundamental_1_df['Quadra'], return_counts = True)\n",
        "sns.countplot(x = dados_fundamental_1_df['Quadra']);"
      ]
    },
    {
      "cell_type": "code",
      "execution_count": null,
      "id": "e7ab63e5",
      "metadata": {
        "id": "e7ab63e5"
      },
      "outputs": [],
      "source": [
        "np.unique(dados_fundamental_1_df['Quadra'], return_counts = True)\n",
        "sns.countplot(x = dados_fundamental_1_df['Quadra']);"
      ]
    },
    {
      "cell_type": "markdown",
      "id": "37443a12",
      "metadata": {
        "id": "37443a12"
      },
      "source": [
        "Refeitorio"
      ]
    },
    {
      "cell_type": "code",
      "execution_count": null,
      "id": "961a4cca",
      "metadata": {
        "id": "961a4cca"
      },
      "outputs": [],
      "source": [
        "np.unique(dados_fundamental_1_df['Refeitorio'], return_counts = True)\n",
        "sns.countplot(x = dados_fundamental_1_df['Refeitorio']);"
      ]
    },
    {
      "cell_type": "code",
      "execution_count": null,
      "id": "32ae820f",
      "metadata": {
        "id": "32ae820f"
      },
      "outputs": [],
      "source": [
        "np.unique(dados_fundamental_1_df['Refeitorio'], return_counts = True)\n",
        "sns.countplot(x = dados_fundamental_1_df['Refeitorio']);"
      ]
    },
    {
      "cell_type": "markdown",
      "id": "4e298d64",
      "metadata": {
        "id": "4e298d64"
      },
      "source": [
        "Sala de atendimento especial"
      ]
    },
    {
      "cell_type": "code",
      "execution_count": null,
      "id": "39572894",
      "metadata": {
        "id": "39572894"
      },
      "outputs": [],
      "source": [
        "np.unique(dados_fundamental_1_df['Sala_atendimento_especial'], return_counts = True)\n",
        "sns.countplot(x = dados_fundamental_1_df['Sala_atendimento_especial']);"
      ]
    },
    {
      "cell_type": "code",
      "execution_count": null,
      "id": "881ccc33",
      "metadata": {
        "id": "881ccc33"
      },
      "outputs": [],
      "source": [
        "np.unique(dados_fundamental_1_df['Sala_atendimento_especial'], return_counts = True)\n",
        "sns.countplot(x = dados_fundamental_1_df['Sala_atendimento_especial']);"
      ]
    },
    {
      "cell_type": "markdown",
      "id": "005876cf",
      "metadata": {
        "id": "005876cf"
      },
      "source": [
        "Acessibilidade"
      ]
    },
    {
      "cell_type": "code",
      "execution_count": null,
      "id": "8312e8df",
      "metadata": {
        "id": "8312e8df"
      },
      "outputs": [],
      "source": [
        "np.unique(dados_fundamental_1_df['Acessibilidade'], return_counts = True)\n",
        "sns.countplot(x = dados_fundamental_1_df['Acessibilidade']);"
      ]
    },
    {
      "cell_type": "code",
      "execution_count": null,
      "id": "f416a894",
      "metadata": {
        "id": "f416a894"
      },
      "outputs": [],
      "source": [
        "np.unique(dados_fundamental_1_df['Acessibilidade'], return_counts = True)\n",
        "sns.countplot(x = dados_fundamental_1_df['Acessibilidade']);"
      ]
    },
    {
      "cell_type": "markdown",
      "id": "4c596cda",
      "metadata": {
        "id": "4c596cda"
      },
      "source": [
        "Internet alunos"
      ]
    },
    {
      "cell_type": "code",
      "execution_count": null,
      "id": "00b5aa6f",
      "metadata": {
        "id": "00b5aa6f"
      },
      "outputs": [],
      "source": [
        "np.unique(dados_fundamental_1_df['Internet_alunos'], return_counts = True)\n",
        "sns.countplot(x = dados_fundamental_1_df['Internet_alunos']);"
      ]
    },
    {
      "cell_type": "code",
      "execution_count": null,
      "id": "2a9f94ca",
      "metadata": {
        "id": "2a9f94ca"
      },
      "outputs": [],
      "source": [
        "np.unique(dados_fundamental_1_df['Internet_alunos'], return_counts = True)\n",
        "sns.countplot(x = dados_fundamental_1_df['Internet_alunos']);"
      ]
    },
    {
      "cell_type": "markdown",
      "id": "8e58a2c0",
      "metadata": {
        "id": "8e58a2c0"
      },
      "source": [
        "Alimentação"
      ]
    },
    {
      "cell_type": "code",
      "execution_count": null,
      "id": "9327b0f0",
      "metadata": {
        "id": "9327b0f0"
      },
      "outputs": [],
      "source": [
        "np.unique(dados_fundamental_1_df['Alimentação'], return_counts = True)\n",
        "sns.countplot(x = dados_fundamental_1_df['Alimentação']);"
      ]
    },
    {
      "cell_type": "code",
      "execution_count": null,
      "id": "75ebe378",
      "metadata": {
        "id": "75ebe378"
      },
      "outputs": [],
      "source": [
        "np.unique(dados_fundamental_1_df['Alimentação'], return_counts = True)\n",
        "sns.countplot(x = dados_fundamental_1_df['Alimentação']);"
      ]
    },
    {
      "cell_type": "markdown",
      "id": "7f69c87c",
      "metadata": {
        "id": "7f69c87c"
      },
      "source": [
        "# Criando 3 novas colunas"
      ]
    },
    {
      "cell_type": "markdown",
      "id": "76e5ca2c",
      "metadata": {
        "id": "76e5ca2c"
      },
      "source": [
        "Decidi dar duas notas para a escola, uma para serviços essenciais como alimentação e agua potavel e outra para a estrutura da escola, como biblioteca, laboratorios e etc."
      ]
    },
    {
      "cell_type": "markdown",
      "id": "158c6687",
      "metadata": {
        "id": "158c6687"
      },
      "source": [
        "Serviços essenciais"
      ]
    },
    {
      "cell_type": "code",
      "execution_count": null,
      "id": "e57b423b",
      "metadata": {
        "id": "e57b423b"
      },
      "outputs": [],
      "source": [
        "dados_fundamental_1_df['Fornecimento_agua_potavel']=dados_fundamental_1_df['Fornecimento_agua_potavel'].astype(int)\n",
        "dados_fundamental_1_df['Fornecimento_energia']=dados_fundamental_1_df['Fornecimento_energia'].astype(int)\n",
        "dados_fundamental_1_df['Acesso_esgotamento_sanitario']=dados_fundamental_1_df['Acesso_esgotamento_sanitario'].astype(int)\n",
        "dados_fundamental_1_df['Acesso_banheiro']=dados_fundamental_1_df['Acesso_banheiro'].astype(int)\n",
        "dados_fundamental_1_df['Alimentação']=dados_fundamental_1_df['Alimentação'].astype(int)\n",
        "dados_fundamental_1_df['Refeitorio']=dados_fundamental_1_df['Refeitorio'].astype(int)\n",
        "dados_fundamental_1_df['Acessibilidade']=dados_fundamental_1_df['Acessibilidade'].astype(int)\n",
        "dados_fundamental_1_df['Internet_alunos']=dados_fundamental_1_df['Internet_alunos'].astype(int)"
      ]
    },
    {
      "cell_type": "code",
      "execution_count": null,
      "id": "3744283e",
      "metadata": {
        "id": "3744283e"
      },
      "outputs": [],
      "source": [
        "dados_fundamental_1_df['Nota_servicos_essenciais'] = dados_fundamental_1_df['Fornecimento_agua_potavel'] + dados_fundamental_1_df['Fornecimento_energia'] + dados_fundamental_1_df['Acesso_esgotamento_sanitario'] + dados_fundamental_1_df['Acesso_banheiro'] + dados_fundamental_1_df['Alimentação'] + dados_fundamental_1_df['Refeitorio'] + dados_fundamental_1_df['Acessibilidade'] + dados_fundamental_1_df['Internet_alunos']"
      ]
    },
    {
      "cell_type": "code",
      "execution_count": null,
      "id": "11e4abc9",
      "metadata": {
        "id": "11e4abc9"
      },
      "outputs": [],
      "source": [
        "dados_fundamental_1_df['Area_Verde']=dados_fundamental_1_df['Area_Verde'].astype(int)\n",
        "dados_fundamental_1_df['Biblioteca']=dados_fundamental_1_df['Biblioteca'].astype(int)\n",
        "dados_fundamental_1_df['Laboratorio_ciencias']=dados_fundamental_1_df['Laboratorio_ciencias'].astype(int)\n",
        "dados_fundamental_1_df['Laboratorio_informatica']=dados_fundamental_1_df['Laboratorio_informatica'].astype(int)\n",
        "dados_fundamental_1_df['Quadra']=dados_fundamental_1_df['Quadra'].astype(int)\n",
        "dados_fundamental_1_df['Atividade_complementar']=dados_fundamental_1_df['Atividade_complementar'].astype(int)\n",
        "dados_fundamental_1_df['Sala_atendimento_especial']=dados_fundamental_1_df['Sala_atendimento_especial'].astype(int)"
      ]
    },
    {
      "cell_type": "code",
      "execution_count": null,
      "id": "b6ae36f0",
      "metadata": {
        "id": "b6ae36f0"
      },
      "outputs": [],
      "source": [
        "dados_fundamental_1_df['Nota_estrutura_escolar'] = dados_fundamental_1_df['Area_Verde'] + dados_fundamental_1_df['Biblioteca'] + dados_fundamental_1_df['Laboratorio_ciencias'] + dados_fundamental_1_df['Laboratorio_informatica'] + dados_fundamental_1_df['Quadra'] + dados_fundamental_1_df['Atividade_complementar'] + dados_fundamental_1_df['Sala_atendimento_especial']"
      ]
    },
    {
      "cell_type": "code",
      "execution_count": null,
      "id": "b4fcbf38",
      "metadata": {
        "id": "b4fcbf38"
      },
      "outputs": [],
      "source": [
        "dados_fundamental_1_df['Nota_da_escola'] = dados_fundamental_1_df['Nota_servicos_essenciais'] + dados_fundamental_1_df['Nota_estrutura_escolar']"
      ]
    },
    {
      "cell_type": "code",
      "execution_count": null,
      "id": "7140e1d4",
      "metadata": {
        "scrolled": false,
        "id": "7140e1d4",
        "colab": {
          "base_uri": "https://localhost:8080/",
          "height": 488
        },
        "outputId": "8bc82464-c409-45c5-9be4-f101a0728a76"
      },
      "outputs": [
        {
          "output_type": "execute_result",
          "data": {
            "text/plain": [
              "        Identificador_escola Aprovacao_ensino_fundamental_1  \\\n",
              "0                   11022558                            100   \n",
              "1                   11024291                            100   \n",
              "2                   11024372                           93.3   \n",
              "3                   11024666                           98.5   \n",
              "4                   11024682                            100   \n",
              "...                      ...                            ...   \n",
              "130123              53083016                           97.1   \n",
              "130124              53084020                            100   \n",
              "130125              53084039                            100   \n",
              "130126              53084055                            100   \n",
              "130127              53085000                            100   \n",
              "\n",
              "       Reprovacao_ensino_fundamental_1 Abandono_ensino_fundamental_1  \\\n",
              "0                                    0                             0   \n",
              "1                                    0                             0   \n",
              "2                                  6.7                             0   \n",
              "3                                  1.5                             0   \n",
              "4                                    0                             0   \n",
              "...                                ...                           ...   \n",
              "130123                             2.9                             0   \n",
              "130124                               0                             0   \n",
              "130125                               0                             0   \n",
              "130126                               0                             0   \n",
              "130127                               0                             0   \n",
              "\n",
              "        Fornecimento_agua_potavel  Fornecimento_energia  \\\n",
              "0                               1                     0   \n",
              "1                               1                     0   \n",
              "2                               1                     0   \n",
              "3                               1                     0   \n",
              "4                               1                     0   \n",
              "...                           ...                   ...   \n",
              "130123                          1                     0   \n",
              "130124                          1                     0   \n",
              "130125                          1                     0   \n",
              "130126                          1                     0   \n",
              "130127                          1                     0   \n",
              "\n",
              "        Acesso_esgotamento_sanitario  Area_Verde  Acesso_banheiro  Biblioteca  \\\n",
              "0                                  1           0                1           0   \n",
              "1                                  0           0                1           0   \n",
              "2                                  0           0                1           1   \n",
              "3                                  0           0                1           0   \n",
              "4                                  0           0                1           1   \n",
              "...                              ...         ...              ...         ...   \n",
              "130123                             0           0                1           1   \n",
              "130124                             0           0                1           0   \n",
              "130125                             0           1                1           1   \n",
              "130126                             0           0                1           0   \n",
              "130127                             0           1                1           1   \n",
              "\n",
              "        ...  Refeitorio  Sala_atendimento_especial  Acessibilidade  \\\n",
              "0       ...           0                          0               1   \n",
              "1       ...           0                          0               1   \n",
              "2       ...           1                          0               1   \n",
              "3       ...           0                          0               1   \n",
              "4       ...           1                          1               0   \n",
              "...     ...         ...                        ...             ...   \n",
              "130123  ...           1                          0               0   \n",
              "130124  ...           0                          0               0   \n",
              "130125  ...           1                          0               0   \n",
              "130126  ...           0                          0               0   \n",
              "130127  ...           0                          0               0   \n",
              "\n",
              "        Internet_alunos  Alimentação  Atividade_complementar  \\\n",
              "0                     0            1                       0   \n",
              "1                     0            1                       0   \n",
              "2                     0            1                       0   \n",
              "3                     0            1                       0   \n",
              "4                     1            1                       0   \n",
              "...                 ...          ...                     ...   \n",
              "130123                0            0                       0   \n",
              "130124                1            0                       0   \n",
              "130125                1            1                       0   \n",
              "130126                1            0                       0   \n",
              "130127                1            0                       0   \n",
              "\n",
              "        ensino_fundamental_1  Nota_servicos_essenciais  \\\n",
              "0                          1                         5   \n",
              "1                          1                         4   \n",
              "2                          1                         5   \n",
              "3                          1                         4   \n",
              "4                          1                         5   \n",
              "...                      ...                       ...   \n",
              "130123                     1                         3   \n",
              "130124                     1                         3   \n",
              "130125                     1                         5   \n",
              "130126                     1                         3   \n",
              "130127                     1                         3   \n",
              "\n",
              "        Nota_estrutura_escolar Nota_da_escola  \n",
              "0                            0              5  \n",
              "1                            0              4  \n",
              "2                            2              7  \n",
              "3                            1              5  \n",
              "4                            4              9  \n",
              "...                        ...            ...  \n",
              "130123                       3              6  \n",
              "130124                       1              4  \n",
              "130125                       5             10  \n",
              "130126                       3              6  \n",
              "130127                       4              7  \n",
              "\n",
              "[105104 rows x 23 columns]"
            ],
            "text/html": [
              "\n",
              "  <div id=\"df-7c69a760-ff49-4ee1-ac7e-21f737f0d226\">\n",
              "    <div class=\"colab-df-container\">\n",
              "      <div>\n",
              "<style scoped>\n",
              "    .dataframe tbody tr th:only-of-type {\n",
              "        vertical-align: middle;\n",
              "    }\n",
              "\n",
              "    .dataframe tbody tr th {\n",
              "        vertical-align: top;\n",
              "    }\n",
              "\n",
              "    .dataframe thead th {\n",
              "        text-align: right;\n",
              "    }\n",
              "</style>\n",
              "<table border=\"1\" class=\"dataframe\">\n",
              "  <thead>\n",
              "    <tr style=\"text-align: right;\">\n",
              "      <th></th>\n",
              "      <th>Identificador_escola</th>\n",
              "      <th>Aprovacao_ensino_fundamental_1</th>\n",
              "      <th>Reprovacao_ensino_fundamental_1</th>\n",
              "      <th>Abandono_ensino_fundamental_1</th>\n",
              "      <th>Fornecimento_agua_potavel</th>\n",
              "      <th>Fornecimento_energia</th>\n",
              "      <th>Acesso_esgotamento_sanitario</th>\n",
              "      <th>Area_Verde</th>\n",
              "      <th>Acesso_banheiro</th>\n",
              "      <th>Biblioteca</th>\n",
              "      <th>...</th>\n",
              "      <th>Refeitorio</th>\n",
              "      <th>Sala_atendimento_especial</th>\n",
              "      <th>Acessibilidade</th>\n",
              "      <th>Internet_alunos</th>\n",
              "      <th>Alimentação</th>\n",
              "      <th>Atividade_complementar</th>\n",
              "      <th>ensino_fundamental_1</th>\n",
              "      <th>Nota_servicos_essenciais</th>\n",
              "      <th>Nota_estrutura_escolar</th>\n",
              "      <th>Nota_da_escola</th>\n",
              "    </tr>\n",
              "  </thead>\n",
              "  <tbody>\n",
              "    <tr>\n",
              "      <th>0</th>\n",
              "      <td>11022558</td>\n",
              "      <td>100</td>\n",
              "      <td>0</td>\n",
              "      <td>0</td>\n",
              "      <td>1</td>\n",
              "      <td>0</td>\n",
              "      <td>1</td>\n",
              "      <td>0</td>\n",
              "      <td>1</td>\n",
              "      <td>0</td>\n",
              "      <td>...</td>\n",
              "      <td>0</td>\n",
              "      <td>0</td>\n",
              "      <td>1</td>\n",
              "      <td>0</td>\n",
              "      <td>1</td>\n",
              "      <td>0</td>\n",
              "      <td>1</td>\n",
              "      <td>5</td>\n",
              "      <td>0</td>\n",
              "      <td>5</td>\n",
              "    </tr>\n",
              "    <tr>\n",
              "      <th>1</th>\n",
              "      <td>11024291</td>\n",
              "      <td>100</td>\n",
              "      <td>0</td>\n",
              "      <td>0</td>\n",
              "      <td>1</td>\n",
              "      <td>0</td>\n",
              "      <td>0</td>\n",
              "      <td>0</td>\n",
              "      <td>1</td>\n",
              "      <td>0</td>\n",
              "      <td>...</td>\n",
              "      <td>0</td>\n",
              "      <td>0</td>\n",
              "      <td>1</td>\n",
              "      <td>0</td>\n",
              "      <td>1</td>\n",
              "      <td>0</td>\n",
              "      <td>1</td>\n",
              "      <td>4</td>\n",
              "      <td>0</td>\n",
              "      <td>4</td>\n",
              "    </tr>\n",
              "    <tr>\n",
              "      <th>2</th>\n",
              "      <td>11024372</td>\n",
              "      <td>93.3</td>\n",
              "      <td>6.7</td>\n",
              "      <td>0</td>\n",
              "      <td>1</td>\n",
              "      <td>0</td>\n",
              "      <td>0</td>\n",
              "      <td>0</td>\n",
              "      <td>1</td>\n",
              "      <td>1</td>\n",
              "      <td>...</td>\n",
              "      <td>1</td>\n",
              "      <td>0</td>\n",
              "      <td>1</td>\n",
              "      <td>0</td>\n",
              "      <td>1</td>\n",
              "      <td>0</td>\n",
              "      <td>1</td>\n",
              "      <td>5</td>\n",
              "      <td>2</td>\n",
              "      <td>7</td>\n",
              "    </tr>\n",
              "    <tr>\n",
              "      <th>3</th>\n",
              "      <td>11024666</td>\n",
              "      <td>98.5</td>\n",
              "      <td>1.5</td>\n",
              "      <td>0</td>\n",
              "      <td>1</td>\n",
              "      <td>0</td>\n",
              "      <td>0</td>\n",
              "      <td>0</td>\n",
              "      <td>1</td>\n",
              "      <td>0</td>\n",
              "      <td>...</td>\n",
              "      <td>0</td>\n",
              "      <td>0</td>\n",
              "      <td>1</td>\n",
              "      <td>0</td>\n",
              "      <td>1</td>\n",
              "      <td>0</td>\n",
              "      <td>1</td>\n",
              "      <td>4</td>\n",
              "      <td>1</td>\n",
              "      <td>5</td>\n",
              "    </tr>\n",
              "    <tr>\n",
              "      <th>4</th>\n",
              "      <td>11024682</td>\n",
              "      <td>100</td>\n",
              "      <td>0</td>\n",
              "      <td>0</td>\n",
              "      <td>1</td>\n",
              "      <td>0</td>\n",
              "      <td>0</td>\n",
              "      <td>0</td>\n",
              "      <td>1</td>\n",
              "      <td>1</td>\n",
              "      <td>...</td>\n",
              "      <td>1</td>\n",
              "      <td>1</td>\n",
              "      <td>0</td>\n",
              "      <td>1</td>\n",
              "      <td>1</td>\n",
              "      <td>0</td>\n",
              "      <td>1</td>\n",
              "      <td>5</td>\n",
              "      <td>4</td>\n",
              "      <td>9</td>\n",
              "    </tr>\n",
              "    <tr>\n",
              "      <th>...</th>\n",
              "      <td>...</td>\n",
              "      <td>...</td>\n",
              "      <td>...</td>\n",
              "      <td>...</td>\n",
              "      <td>...</td>\n",
              "      <td>...</td>\n",
              "      <td>...</td>\n",
              "      <td>...</td>\n",
              "      <td>...</td>\n",
              "      <td>...</td>\n",
              "      <td>...</td>\n",
              "      <td>...</td>\n",
              "      <td>...</td>\n",
              "      <td>...</td>\n",
              "      <td>...</td>\n",
              "      <td>...</td>\n",
              "      <td>...</td>\n",
              "      <td>...</td>\n",
              "      <td>...</td>\n",
              "      <td>...</td>\n",
              "      <td>...</td>\n",
              "    </tr>\n",
              "    <tr>\n",
              "      <th>130123</th>\n",
              "      <td>53083016</td>\n",
              "      <td>97.1</td>\n",
              "      <td>2.9</td>\n",
              "      <td>0</td>\n",
              "      <td>1</td>\n",
              "      <td>0</td>\n",
              "      <td>0</td>\n",
              "      <td>0</td>\n",
              "      <td>1</td>\n",
              "      <td>1</td>\n",
              "      <td>...</td>\n",
              "      <td>1</td>\n",
              "      <td>0</td>\n",
              "      <td>0</td>\n",
              "      <td>0</td>\n",
              "      <td>0</td>\n",
              "      <td>0</td>\n",
              "      <td>1</td>\n",
              "      <td>3</td>\n",
              "      <td>3</td>\n",
              "      <td>6</td>\n",
              "    </tr>\n",
              "    <tr>\n",
              "      <th>130124</th>\n",
              "      <td>53084020</td>\n",
              "      <td>100</td>\n",
              "      <td>0</td>\n",
              "      <td>0</td>\n",
              "      <td>1</td>\n",
              "      <td>0</td>\n",
              "      <td>0</td>\n",
              "      <td>0</td>\n",
              "      <td>1</td>\n",
              "      <td>0</td>\n",
              "      <td>...</td>\n",
              "      <td>0</td>\n",
              "      <td>0</td>\n",
              "      <td>0</td>\n",
              "      <td>1</td>\n",
              "      <td>0</td>\n",
              "      <td>0</td>\n",
              "      <td>1</td>\n",
              "      <td>3</td>\n",
              "      <td>1</td>\n",
              "      <td>4</td>\n",
              "    </tr>\n",
              "    <tr>\n",
              "      <th>130125</th>\n",
              "      <td>53084039</td>\n",
              "      <td>100</td>\n",
              "      <td>0</td>\n",
              "      <td>0</td>\n",
              "      <td>1</td>\n",
              "      <td>0</td>\n",
              "      <td>0</td>\n",
              "      <td>1</td>\n",
              "      <td>1</td>\n",
              "      <td>1</td>\n",
              "      <td>...</td>\n",
              "      <td>1</td>\n",
              "      <td>0</td>\n",
              "      <td>0</td>\n",
              "      <td>1</td>\n",
              "      <td>1</td>\n",
              "      <td>0</td>\n",
              "      <td>1</td>\n",
              "      <td>5</td>\n",
              "      <td>5</td>\n",
              "      <td>10</td>\n",
              "    </tr>\n",
              "    <tr>\n",
              "      <th>130126</th>\n",
              "      <td>53084055</td>\n",
              "      <td>100</td>\n",
              "      <td>0</td>\n",
              "      <td>0</td>\n",
              "      <td>1</td>\n",
              "      <td>0</td>\n",
              "      <td>0</td>\n",
              "      <td>0</td>\n",
              "      <td>1</td>\n",
              "      <td>0</td>\n",
              "      <td>...</td>\n",
              "      <td>0</td>\n",
              "      <td>0</td>\n",
              "      <td>0</td>\n",
              "      <td>1</td>\n",
              "      <td>0</td>\n",
              "      <td>0</td>\n",
              "      <td>1</td>\n",
              "      <td>3</td>\n",
              "      <td>3</td>\n",
              "      <td>6</td>\n",
              "    </tr>\n",
              "    <tr>\n",
              "      <th>130127</th>\n",
              "      <td>53085000</td>\n",
              "      <td>100</td>\n",
              "      <td>0</td>\n",
              "      <td>0</td>\n",
              "      <td>1</td>\n",
              "      <td>0</td>\n",
              "      <td>0</td>\n",
              "      <td>1</td>\n",
              "      <td>1</td>\n",
              "      <td>1</td>\n",
              "      <td>...</td>\n",
              "      <td>0</td>\n",
              "      <td>0</td>\n",
              "      <td>0</td>\n",
              "      <td>1</td>\n",
              "      <td>0</td>\n",
              "      <td>0</td>\n",
              "      <td>1</td>\n",
              "      <td>3</td>\n",
              "      <td>4</td>\n",
              "      <td>7</td>\n",
              "    </tr>\n",
              "  </tbody>\n",
              "</table>\n",
              "<p>105104 rows × 23 columns</p>\n",
              "</div>\n",
              "      <button class=\"colab-df-convert\" onclick=\"convertToInteractive('df-7c69a760-ff49-4ee1-ac7e-21f737f0d226')\"\n",
              "              title=\"Convert this dataframe to an interactive table.\"\n",
              "              style=\"display:none;\">\n",
              "        \n",
              "  <svg xmlns=\"http://www.w3.org/2000/svg\" height=\"24px\"viewBox=\"0 0 24 24\"\n",
              "       width=\"24px\">\n",
              "    <path d=\"M0 0h24v24H0V0z\" fill=\"none\"/>\n",
              "    <path d=\"M18.56 5.44l.94 2.06.94-2.06 2.06-.94-2.06-.94-.94-2.06-.94 2.06-2.06.94zm-11 1L8.5 8.5l.94-2.06 2.06-.94-2.06-.94L8.5 2.5l-.94 2.06-2.06.94zm10 10l.94 2.06.94-2.06 2.06-.94-2.06-.94-.94-2.06-.94 2.06-2.06.94z\"/><path d=\"M17.41 7.96l-1.37-1.37c-.4-.4-.92-.59-1.43-.59-.52 0-1.04.2-1.43.59L10.3 9.45l-7.72 7.72c-.78.78-.78 2.05 0 2.83L4 21.41c.39.39.9.59 1.41.59.51 0 1.02-.2 1.41-.59l7.78-7.78 2.81-2.81c.8-.78.8-2.07 0-2.86zM5.41 20L4 18.59l7.72-7.72 1.47 1.35L5.41 20z\"/>\n",
              "  </svg>\n",
              "      </button>\n",
              "      \n",
              "  <style>\n",
              "    .colab-df-container {\n",
              "      display:flex;\n",
              "      flex-wrap:wrap;\n",
              "      gap: 12px;\n",
              "    }\n",
              "\n",
              "    .colab-df-convert {\n",
              "      background-color: #E8F0FE;\n",
              "      border: none;\n",
              "      border-radius: 50%;\n",
              "      cursor: pointer;\n",
              "      display: none;\n",
              "      fill: #1967D2;\n",
              "      height: 32px;\n",
              "      padding: 0 0 0 0;\n",
              "      width: 32px;\n",
              "    }\n",
              "\n",
              "    .colab-df-convert:hover {\n",
              "      background-color: #E2EBFA;\n",
              "      box-shadow: 0px 1px 2px rgba(60, 64, 67, 0.3), 0px 1px 3px 1px rgba(60, 64, 67, 0.15);\n",
              "      fill: #174EA6;\n",
              "    }\n",
              "\n",
              "    [theme=dark] .colab-df-convert {\n",
              "      background-color: #3B4455;\n",
              "      fill: #D2E3FC;\n",
              "    }\n",
              "\n",
              "    [theme=dark] .colab-df-convert:hover {\n",
              "      background-color: #434B5C;\n",
              "      box-shadow: 0px 1px 3px 1px rgba(0, 0, 0, 0.15);\n",
              "      filter: drop-shadow(0px 1px 2px rgba(0, 0, 0, 0.3));\n",
              "      fill: #FFFFFF;\n",
              "    }\n",
              "  </style>\n",
              "\n",
              "      <script>\n",
              "        const buttonEl =\n",
              "          document.querySelector('#df-7c69a760-ff49-4ee1-ac7e-21f737f0d226 button.colab-df-convert');\n",
              "        buttonEl.style.display =\n",
              "          google.colab.kernel.accessAllowed ? 'block' : 'none';\n",
              "\n",
              "        async function convertToInteractive(key) {\n",
              "          const element = document.querySelector('#df-7c69a760-ff49-4ee1-ac7e-21f737f0d226');\n",
              "          const dataTable =\n",
              "            await google.colab.kernel.invokeFunction('convertToInteractive',\n",
              "                                                     [key], {});\n",
              "          if (!dataTable) return;\n",
              "\n",
              "          const docLinkHtml = 'Like what you see? Visit the ' +\n",
              "            '<a target=\"_blank\" href=https://colab.research.google.com/notebooks/data_table.ipynb>data table notebook</a>'\n",
              "            + ' to learn more about interactive tables.';\n",
              "          element.innerHTML = '';\n",
              "          dataTable['output_type'] = 'display_data';\n",
              "          await google.colab.output.renderOutput(dataTable, element);\n",
              "          const docLink = document.createElement('div');\n",
              "          docLink.innerHTML = docLinkHtml;\n",
              "          element.appendChild(docLink);\n",
              "        }\n",
              "      </script>\n",
              "    </div>\n",
              "  </div>\n",
              "  "
            ]
          },
          "metadata": {},
          "execution_count": 38
        }
      ],
      "source": [
        "dados_fundamental_1_df"
      ]
    },
    {
      "cell_type": "markdown",
      "id": "c4cd5cac",
      "metadata": {
        "id": "c4cd5cac"
      },
      "source": [
        "Fiz o mesmo com o ensino fundamental 2"
      ]
    },
    {
      "cell_type": "code",
      "execution_count": null,
      "id": "8403f70f",
      "metadata": {
        "id": "8403f70f"
      },
      "outputs": [],
      "source": [
        "dados_fundamental_2_df['Fornecimento_agua_potavel']=dados_fundamental_2_df['Fornecimento_agua_potavel'].astype(int)\n",
        "dados_fundamental_2_df['Fornecimento_energia']=dados_fundamental_2_df['Fornecimento_energia'].astype(int)\n",
        "dados_fundamental_2_df['Acesso_esgotamento_sanitario']=dados_fundamental_2_df['Acesso_esgotamento_sanitario'].astype(int)\n",
        "dados_fundamental_2_df['Acesso_banheiro']=dados_fundamental_2_df['Acesso_banheiro'].astype(int)\n",
        "dados_fundamental_2_df['Alimentação']=dados_fundamental_2_df['Alimentação'].astype(int)\n",
        "dados_fundamental_2_df['Refeitorio']=dados_fundamental_2_df['Refeitorio'].astype(int)\n",
        "dados_fundamental_2_df['Acessibilidade']=dados_fundamental_2_df['Acessibilidade'].astype(int)\n",
        "dados_fundamental_2_df['Internet_alunos']=dados_fundamental_2_df['Internet_alunos'].astype(int)"
      ]
    },
    {
      "cell_type": "code",
      "execution_count": null,
      "id": "91085842",
      "metadata": {
        "id": "91085842"
      },
      "outputs": [],
      "source": [
        "dados_fundamental_2_df['Nota_servicos_essenciais'] = dados_fundamental_2_df['Fornecimento_agua_potavel'] + dados_fundamental_2_df['Fornecimento_energia'] + dados_fundamental_2_df['Acesso_esgotamento_sanitario'] + dados_fundamental_2_df['Acesso_banheiro'] + dados_fundamental_2_df['Alimentação'] + dados_fundamental_2_df['Refeitorio'] + dados_fundamental_2_df['Acessibilidade'] + dados_fundamental_2_df['Internet_alunos']"
      ]
    },
    {
      "cell_type": "code",
      "execution_count": null,
      "id": "d6b44abc",
      "metadata": {
        "id": "d6b44abc"
      },
      "outputs": [],
      "source": [
        "dados_fundamental_2_df['Area_Verde']=dados_fundamental_2_df['Area_Verde'].astype(int)\n",
        "dados_fundamental_2_df['Biblioteca']=dados_fundamental_2_df['Biblioteca'].astype(int)\n",
        "dados_fundamental_2_df['Laboratorio_ciencias']=dados_fundamental_2_df['Laboratorio_ciencias'].astype(int)\n",
        "dados_fundamental_2_df['Laboratorio_informatica']=dados_fundamental_2_df['Laboratorio_informatica'].astype(int)\n",
        "dados_fundamental_2_df['Quadra']=dados_fundamental_2_df['Quadra'].astype(int)\n",
        "dados_fundamental_2_df['Atividade_complementar']=dados_fundamental_2_df['Atividade_complementar'].astype(int)\n",
        "dados_fundamental_2_df['Sala_atendimento_especial']=dados_fundamental_2_df['Sala_atendimento_especial'].astype(int)"
      ]
    },
    {
      "cell_type": "code",
      "execution_count": null,
      "id": "c5670b26",
      "metadata": {
        "id": "c5670b26"
      },
      "outputs": [],
      "source": [
        "dados_fundamental_2_df['Nota_estrutura_escolar'] = dados_fundamental_2_df['Area_Verde'] + dados_fundamental_2_df['Biblioteca'] + dados_fundamental_2_df['Laboratorio_ciencias'] + dados_fundamental_2_df['Laboratorio_informatica'] + dados_fundamental_2_df['Quadra'] + dados_fundamental_2_df['Atividade_complementar'] + dados_fundamental_2_df['Sala_atendimento_especial']"
      ]
    },
    {
      "cell_type": "code",
      "execution_count": null,
      "id": "59a2abd0",
      "metadata": {
        "id": "59a2abd0"
      },
      "outputs": [],
      "source": [
        "dados_fundamental_2_df['Nota_da_escola'] = dados_fundamental_2_df['Nota_servicos_essenciais'] + dados_fundamental_2_df['Nota_estrutura_escolar']"
      ]
    },
    {
      "cell_type": "code",
      "execution_count": null,
      "id": "a30cab00",
      "metadata": {
        "scrolled": false,
        "id": "a30cab00"
      },
      "outputs": [],
      "source": [
        "dados_fundamental_2_df"
      ]
    },
    {
      "cell_type": "markdown",
      "id": "403113bb",
      "metadata": {
        "id": "403113bb"
      },
      "source": [
        "# Tratamento dos valores faltantes"
      ]
    },
    {
      "cell_type": "code",
      "execution_count": null,
      "id": "2eafe0e3",
      "metadata": {
        "id": "2eafe0e3"
      },
      "outputs": [],
      "source": [
        "contagem = dados_fundamental_1_df['Aprovacao_ensino_fundamental_1'].value_counts()"
      ]
    },
    {
      "cell_type": "code",
      "execution_count": null,
      "id": "6ca567f8",
      "metadata": {
        "scrolled": true,
        "id": "6ca567f8",
        "colab": {
          "base_uri": "https://localhost:8080/"
        },
        "outputId": "32a3f112-eca1-45b0-e30b-cab662bbc28a"
      },
      "outputs": [
        {
          "output_type": "execute_result",
          "data": {
            "text/plain": [
              "100     59718\n",
              "--       1625\n",
              "99.5     1042\n",
              "99.6     1016\n",
              "99.2      981\n",
              "        ...  \n",
              "51.1        1\n",
              "66.6        1\n",
              "74.8        1\n",
              "23.5        1\n",
              "41          1\n",
              "Name: Aprovacao_ensino_fundamental_1, Length: 536, dtype: int64"
            ]
          },
          "metadata": {},
          "execution_count": 46
        }
      ],
      "source": [
        "contagem"
      ]
    },
    {
      "cell_type": "code",
      "execution_count": null,
      "id": "89d461b2",
      "metadata": {
        "id": "89d461b2"
      },
      "outputs": [],
      "source": [
        "dados_fundamental_1_df.loc[dados_fundamental_1_df['Aprovacao_ensino_fundamental_1'] == '--', 'Aprovacao_ensino_fundamental_1'] = None"
      ]
    },
    {
      "cell_type": "code",
      "execution_count": null,
      "id": "04858a19",
      "metadata": {
        "id": "04858a19"
      },
      "outputs": [],
      "source": [
        "dados_fundamental_1_df.dropna(subset=['Aprovacao_ensino_fundamental_1'], inplace=True)"
      ]
    },
    {
      "cell_type": "markdown",
      "id": "830d4f6f",
      "metadata": {
        "id": "830d4f6f"
      },
      "source": [
        "Depois, fiz a contagem dos valores que estavam faltando na tabela do ensino fundamental 2"
      ]
    },
    {
      "cell_type": "code",
      "execution_count": null,
      "id": "df732110",
      "metadata": {
        "id": "df732110"
      },
      "outputs": [],
      "source": [
        "contagem = dados_fundamental_2_df['Aprovacao_ensino_fundamental_2'].value_counts()"
      ]
    },
    {
      "cell_type": "code",
      "execution_count": null,
      "id": "39088b91",
      "metadata": {
        "id": "39088b91",
        "colab": {
          "base_uri": "https://localhost:8080/"
        },
        "outputId": "0e63636b-08e5-413c-e799-115aa9e806a9"
      },
      "outputs": [
        {
          "output_type": "execute_result",
          "data": {
            "text/plain": [
              "100     23534\n",
              "99.1      732\n",
              "99.6      727\n",
              "99.4      722\n",
              "--        702\n",
              "        ...  \n",
              "22.4        1\n",
              "39.6        1\n",
              "46.5        1\n",
              "9.1         1\n",
              "48.4        1\n",
              "Name: Aprovacao_ensino_fundamental_2, Length: 608, dtype: int64"
            ]
          },
          "metadata": {},
          "execution_count": 50
        }
      ],
      "source": [
        "contagem"
      ]
    },
    {
      "cell_type": "markdown",
      "id": "8128c761",
      "metadata": {
        "id": "8128c761"
      },
      "source": [
        "Novamente 702 linhas é um número pequeno em relação as 61531 linhas que tenho na tabela, por isso resolvi remove-las"
      ]
    },
    {
      "cell_type": "code",
      "execution_count": null,
      "id": "abc69065",
      "metadata": {
        "id": "abc69065"
      },
      "outputs": [],
      "source": [
        "dados_fundamental_2_df.loc[dados_fundamental_2_df['Aprovacao_ensino_fundamental_2'] == '--', 'Aprovacao_ensino_fundamental_2'] = None"
      ]
    },
    {
      "cell_type": "code",
      "execution_count": null,
      "id": "71c5cdda",
      "metadata": {
        "id": "71c5cdda"
      },
      "outputs": [],
      "source": [
        "dados_fundamental_2_df.dropna(subset=['Aprovacao_ensino_fundamental_2'], inplace=True)"
      ]
    },
    {
      "cell_type": "markdown",
      "id": "3984d3b5",
      "metadata": {
        "id": "3984d3b5"
      },
      "source": [
        "# Escalonamento das notas"
      ]
    },
    {
      "cell_type": "markdown",
      "id": "f5354741",
      "metadata": {
        "id": "f5354741"
      },
      "source": [
        "Aqui, escalonei as notas de 0 a 10"
      ]
    },
    {
      "cell_type": "code",
      "execution_count": null,
      "id": "f8a77e40",
      "metadata": {
        "id": "f8a77e40"
      },
      "outputs": [],
      "source": [
        "scaler = MinMaxScaler(feature_range = (0, 10))"
      ]
    },
    {
      "cell_type": "code",
      "execution_count": null,
      "id": "58c26d71",
      "metadata": {
        "id": "58c26d71"
      },
      "outputs": [],
      "source": [
        "dados_fundamental_1_df[[\"Nota_servicos_essenciais\", \"Nota_estrutura_escolar\", \"Nota_da_escola\"]] = scaler.fit_transform(dados_fundamental_1_df[[\"Nota_servicos_essenciais\", \"Nota_estrutura_escolar\", \"Nota_da_escola\"]])"
      ]
    },
    {
      "cell_type": "code",
      "execution_count": null,
      "id": "ea7ae1f3",
      "metadata": {
        "scrolled": true,
        "id": "ea7ae1f3",
        "colab": {
          "base_uri": "https://localhost:8080/",
          "height": 488
        },
        "outputId": "a8bec38f-ed2e-42ea-eadc-1a07fbda60f3"
      },
      "outputs": [
        {
          "output_type": "execute_result",
          "data": {
            "text/plain": [
              "        Identificador_escola Aprovacao_ensino_fundamental_1  \\\n",
              "0                   11022558                            100   \n",
              "1                   11024291                            100   \n",
              "2                   11024372                           93.3   \n",
              "3                   11024666                           98.5   \n",
              "4                   11024682                            100   \n",
              "...                      ...                            ...   \n",
              "130123              53083016                           97.1   \n",
              "130124              53084020                            100   \n",
              "130125              53084039                            100   \n",
              "130126              53084055                            100   \n",
              "130127              53085000                            100   \n",
              "\n",
              "       Reprovacao_ensino_fundamental_1 Abandono_ensino_fundamental_1  \\\n",
              "0                                    0                             0   \n",
              "1                                    0                             0   \n",
              "2                                  6.7                             0   \n",
              "3                                  1.5                             0   \n",
              "4                                    0                             0   \n",
              "...                                ...                           ...   \n",
              "130123                             2.9                             0   \n",
              "130124                               0                             0   \n",
              "130125                               0                             0   \n",
              "130126                               0                             0   \n",
              "130127                               0                             0   \n",
              "\n",
              "        Fornecimento_agua_potavel  Fornecimento_energia  \\\n",
              "0                               1                     0   \n",
              "1                               1                     0   \n",
              "2                               1                     0   \n",
              "3                               1                     0   \n",
              "4                               1                     0   \n",
              "...                           ...                   ...   \n",
              "130123                          1                     0   \n",
              "130124                          1                     0   \n",
              "130125                          1                     0   \n",
              "130126                          1                     0   \n",
              "130127                          1                     0   \n",
              "\n",
              "        Acesso_esgotamento_sanitario  Area_Verde  Acesso_banheiro  Biblioteca  \\\n",
              "0                                  1           0                1           0   \n",
              "1                                  0           0                1           0   \n",
              "2                                  0           0                1           1   \n",
              "3                                  0           0                1           0   \n",
              "4                                  0           0                1           1   \n",
              "...                              ...         ...              ...         ...   \n",
              "130123                             0           0                1           1   \n",
              "130124                             0           0                1           0   \n",
              "130125                             0           1                1           1   \n",
              "130126                             0           0                1           0   \n",
              "130127                             0           1                1           1   \n",
              "\n",
              "        ...  Refeitorio  Sala_atendimento_especial  Acessibilidade  \\\n",
              "0       ...           0                          0               1   \n",
              "1       ...           0                          0               1   \n",
              "2       ...           1                          0               1   \n",
              "3       ...           0                          0               1   \n",
              "4       ...           1                          1               0   \n",
              "...     ...         ...                        ...             ...   \n",
              "130123  ...           1                          0               0   \n",
              "130124  ...           0                          0               0   \n",
              "130125  ...           1                          0               0   \n",
              "130126  ...           0                          0               0   \n",
              "130127  ...           0                          0               0   \n",
              "\n",
              "        Internet_alunos  Alimentação  Atividade_complementar  \\\n",
              "0                     0            1                       0   \n",
              "1                     0            1                       0   \n",
              "2                     0            1                       0   \n",
              "3                     0            1                       0   \n",
              "4                     1            1                       0   \n",
              "...                 ...          ...                     ...   \n",
              "130123                0            0                       0   \n",
              "130124                1            0                       0   \n",
              "130125                1            1                       0   \n",
              "130126                1            0                       0   \n",
              "130127                1            0                       0   \n",
              "\n",
              "        ensino_fundamental_1  Nota_servicos_essenciais  \\\n",
              "0                          1                  6.666667   \n",
              "1                          1                  5.000000   \n",
              "2                          1                  6.666667   \n",
              "3                          1                  5.000000   \n",
              "4                          1                  6.666667   \n",
              "...                      ...                       ...   \n",
              "130123                     1                  3.333333   \n",
              "130124                     1                  3.333333   \n",
              "130125                     1                  6.666667   \n",
              "130126                     1                  3.333333   \n",
              "130127                     1                  3.333333   \n",
              "\n",
              "        Nota_estrutura_escolar Nota_da_escola  \n",
              "0                     0.000000       3.333333  \n",
              "1                     0.000000       2.500000  \n",
              "2                     2.857143       5.000000  \n",
              "3                     1.428571       3.333333  \n",
              "4                     5.714286       6.666667  \n",
              "...                        ...            ...  \n",
              "130123                4.285714       4.166667  \n",
              "130124                1.428571       2.500000  \n",
              "130125                7.142857       7.500000  \n",
              "130126                4.285714       4.166667  \n",
              "130127                5.714286       5.000000  \n",
              "\n",
              "[103479 rows x 23 columns]"
            ],
            "text/html": [
              "\n",
              "  <div id=\"df-1ca86706-50bc-45ad-93ec-b9df81631ee8\">\n",
              "    <div class=\"colab-df-container\">\n",
              "      <div>\n",
              "<style scoped>\n",
              "    .dataframe tbody tr th:only-of-type {\n",
              "        vertical-align: middle;\n",
              "    }\n",
              "\n",
              "    .dataframe tbody tr th {\n",
              "        vertical-align: top;\n",
              "    }\n",
              "\n",
              "    .dataframe thead th {\n",
              "        text-align: right;\n",
              "    }\n",
              "</style>\n",
              "<table border=\"1\" class=\"dataframe\">\n",
              "  <thead>\n",
              "    <tr style=\"text-align: right;\">\n",
              "      <th></th>\n",
              "      <th>Identificador_escola</th>\n",
              "      <th>Aprovacao_ensino_fundamental_1</th>\n",
              "      <th>Reprovacao_ensino_fundamental_1</th>\n",
              "      <th>Abandono_ensino_fundamental_1</th>\n",
              "      <th>Fornecimento_agua_potavel</th>\n",
              "      <th>Fornecimento_energia</th>\n",
              "      <th>Acesso_esgotamento_sanitario</th>\n",
              "      <th>Area_Verde</th>\n",
              "      <th>Acesso_banheiro</th>\n",
              "      <th>Biblioteca</th>\n",
              "      <th>...</th>\n",
              "      <th>Refeitorio</th>\n",
              "      <th>Sala_atendimento_especial</th>\n",
              "      <th>Acessibilidade</th>\n",
              "      <th>Internet_alunos</th>\n",
              "      <th>Alimentação</th>\n",
              "      <th>Atividade_complementar</th>\n",
              "      <th>ensino_fundamental_1</th>\n",
              "      <th>Nota_servicos_essenciais</th>\n",
              "      <th>Nota_estrutura_escolar</th>\n",
              "      <th>Nota_da_escola</th>\n",
              "    </tr>\n",
              "  </thead>\n",
              "  <tbody>\n",
              "    <tr>\n",
              "      <th>0</th>\n",
              "      <td>11022558</td>\n",
              "      <td>100</td>\n",
              "      <td>0</td>\n",
              "      <td>0</td>\n",
              "      <td>1</td>\n",
              "      <td>0</td>\n",
              "      <td>1</td>\n",
              "      <td>0</td>\n",
              "      <td>1</td>\n",
              "      <td>0</td>\n",
              "      <td>...</td>\n",
              "      <td>0</td>\n",
              "      <td>0</td>\n",
              "      <td>1</td>\n",
              "      <td>0</td>\n",
              "      <td>1</td>\n",
              "      <td>0</td>\n",
              "      <td>1</td>\n",
              "      <td>6.666667</td>\n",
              "      <td>0.000000</td>\n",
              "      <td>3.333333</td>\n",
              "    </tr>\n",
              "    <tr>\n",
              "      <th>1</th>\n",
              "      <td>11024291</td>\n",
              "      <td>100</td>\n",
              "      <td>0</td>\n",
              "      <td>0</td>\n",
              "      <td>1</td>\n",
              "      <td>0</td>\n",
              "      <td>0</td>\n",
              "      <td>0</td>\n",
              "      <td>1</td>\n",
              "      <td>0</td>\n",
              "      <td>...</td>\n",
              "      <td>0</td>\n",
              "      <td>0</td>\n",
              "      <td>1</td>\n",
              "      <td>0</td>\n",
              "      <td>1</td>\n",
              "      <td>0</td>\n",
              "      <td>1</td>\n",
              "      <td>5.000000</td>\n",
              "      <td>0.000000</td>\n",
              "      <td>2.500000</td>\n",
              "    </tr>\n",
              "    <tr>\n",
              "      <th>2</th>\n",
              "      <td>11024372</td>\n",
              "      <td>93.3</td>\n",
              "      <td>6.7</td>\n",
              "      <td>0</td>\n",
              "      <td>1</td>\n",
              "      <td>0</td>\n",
              "      <td>0</td>\n",
              "      <td>0</td>\n",
              "      <td>1</td>\n",
              "      <td>1</td>\n",
              "      <td>...</td>\n",
              "      <td>1</td>\n",
              "      <td>0</td>\n",
              "      <td>1</td>\n",
              "      <td>0</td>\n",
              "      <td>1</td>\n",
              "      <td>0</td>\n",
              "      <td>1</td>\n",
              "      <td>6.666667</td>\n",
              "      <td>2.857143</td>\n",
              "      <td>5.000000</td>\n",
              "    </tr>\n",
              "    <tr>\n",
              "      <th>3</th>\n",
              "      <td>11024666</td>\n",
              "      <td>98.5</td>\n",
              "      <td>1.5</td>\n",
              "      <td>0</td>\n",
              "      <td>1</td>\n",
              "      <td>0</td>\n",
              "      <td>0</td>\n",
              "      <td>0</td>\n",
              "      <td>1</td>\n",
              "      <td>0</td>\n",
              "      <td>...</td>\n",
              "      <td>0</td>\n",
              "      <td>0</td>\n",
              "      <td>1</td>\n",
              "      <td>0</td>\n",
              "      <td>1</td>\n",
              "      <td>0</td>\n",
              "      <td>1</td>\n",
              "      <td>5.000000</td>\n",
              "      <td>1.428571</td>\n",
              "      <td>3.333333</td>\n",
              "    </tr>\n",
              "    <tr>\n",
              "      <th>4</th>\n",
              "      <td>11024682</td>\n",
              "      <td>100</td>\n",
              "      <td>0</td>\n",
              "      <td>0</td>\n",
              "      <td>1</td>\n",
              "      <td>0</td>\n",
              "      <td>0</td>\n",
              "      <td>0</td>\n",
              "      <td>1</td>\n",
              "      <td>1</td>\n",
              "      <td>...</td>\n",
              "      <td>1</td>\n",
              "      <td>1</td>\n",
              "      <td>0</td>\n",
              "      <td>1</td>\n",
              "      <td>1</td>\n",
              "      <td>0</td>\n",
              "      <td>1</td>\n",
              "      <td>6.666667</td>\n",
              "      <td>5.714286</td>\n",
              "      <td>6.666667</td>\n",
              "    </tr>\n",
              "    <tr>\n",
              "      <th>...</th>\n",
              "      <td>...</td>\n",
              "      <td>...</td>\n",
              "      <td>...</td>\n",
              "      <td>...</td>\n",
              "      <td>...</td>\n",
              "      <td>...</td>\n",
              "      <td>...</td>\n",
              "      <td>...</td>\n",
              "      <td>...</td>\n",
              "      <td>...</td>\n",
              "      <td>...</td>\n",
              "      <td>...</td>\n",
              "      <td>...</td>\n",
              "      <td>...</td>\n",
              "      <td>...</td>\n",
              "      <td>...</td>\n",
              "      <td>...</td>\n",
              "      <td>...</td>\n",
              "      <td>...</td>\n",
              "      <td>...</td>\n",
              "      <td>...</td>\n",
              "    </tr>\n",
              "    <tr>\n",
              "      <th>130123</th>\n",
              "      <td>53083016</td>\n",
              "      <td>97.1</td>\n",
              "      <td>2.9</td>\n",
              "      <td>0</td>\n",
              "      <td>1</td>\n",
              "      <td>0</td>\n",
              "      <td>0</td>\n",
              "      <td>0</td>\n",
              "      <td>1</td>\n",
              "      <td>1</td>\n",
              "      <td>...</td>\n",
              "      <td>1</td>\n",
              "      <td>0</td>\n",
              "      <td>0</td>\n",
              "      <td>0</td>\n",
              "      <td>0</td>\n",
              "      <td>0</td>\n",
              "      <td>1</td>\n",
              "      <td>3.333333</td>\n",
              "      <td>4.285714</td>\n",
              "      <td>4.166667</td>\n",
              "    </tr>\n",
              "    <tr>\n",
              "      <th>130124</th>\n",
              "      <td>53084020</td>\n",
              "      <td>100</td>\n",
              "      <td>0</td>\n",
              "      <td>0</td>\n",
              "      <td>1</td>\n",
              "      <td>0</td>\n",
              "      <td>0</td>\n",
              "      <td>0</td>\n",
              "      <td>1</td>\n",
              "      <td>0</td>\n",
              "      <td>...</td>\n",
              "      <td>0</td>\n",
              "      <td>0</td>\n",
              "      <td>0</td>\n",
              "      <td>1</td>\n",
              "      <td>0</td>\n",
              "      <td>0</td>\n",
              "      <td>1</td>\n",
              "      <td>3.333333</td>\n",
              "      <td>1.428571</td>\n",
              "      <td>2.500000</td>\n",
              "    </tr>\n",
              "    <tr>\n",
              "      <th>130125</th>\n",
              "      <td>53084039</td>\n",
              "      <td>100</td>\n",
              "      <td>0</td>\n",
              "      <td>0</td>\n",
              "      <td>1</td>\n",
              "      <td>0</td>\n",
              "      <td>0</td>\n",
              "      <td>1</td>\n",
              "      <td>1</td>\n",
              "      <td>1</td>\n",
              "      <td>...</td>\n",
              "      <td>1</td>\n",
              "      <td>0</td>\n",
              "      <td>0</td>\n",
              "      <td>1</td>\n",
              "      <td>1</td>\n",
              "      <td>0</td>\n",
              "      <td>1</td>\n",
              "      <td>6.666667</td>\n",
              "      <td>7.142857</td>\n",
              "      <td>7.500000</td>\n",
              "    </tr>\n",
              "    <tr>\n",
              "      <th>130126</th>\n",
              "      <td>53084055</td>\n",
              "      <td>100</td>\n",
              "      <td>0</td>\n",
              "      <td>0</td>\n",
              "      <td>1</td>\n",
              "      <td>0</td>\n",
              "      <td>0</td>\n",
              "      <td>0</td>\n",
              "      <td>1</td>\n",
              "      <td>0</td>\n",
              "      <td>...</td>\n",
              "      <td>0</td>\n",
              "      <td>0</td>\n",
              "      <td>0</td>\n",
              "      <td>1</td>\n",
              "      <td>0</td>\n",
              "      <td>0</td>\n",
              "      <td>1</td>\n",
              "      <td>3.333333</td>\n",
              "      <td>4.285714</td>\n",
              "      <td>4.166667</td>\n",
              "    </tr>\n",
              "    <tr>\n",
              "      <th>130127</th>\n",
              "      <td>53085000</td>\n",
              "      <td>100</td>\n",
              "      <td>0</td>\n",
              "      <td>0</td>\n",
              "      <td>1</td>\n",
              "      <td>0</td>\n",
              "      <td>0</td>\n",
              "      <td>1</td>\n",
              "      <td>1</td>\n",
              "      <td>1</td>\n",
              "      <td>...</td>\n",
              "      <td>0</td>\n",
              "      <td>0</td>\n",
              "      <td>0</td>\n",
              "      <td>1</td>\n",
              "      <td>0</td>\n",
              "      <td>0</td>\n",
              "      <td>1</td>\n",
              "      <td>3.333333</td>\n",
              "      <td>5.714286</td>\n",
              "      <td>5.000000</td>\n",
              "    </tr>\n",
              "  </tbody>\n",
              "</table>\n",
              "<p>103479 rows × 23 columns</p>\n",
              "</div>\n",
              "      <button class=\"colab-df-convert\" onclick=\"convertToInteractive('df-1ca86706-50bc-45ad-93ec-b9df81631ee8')\"\n",
              "              title=\"Convert this dataframe to an interactive table.\"\n",
              "              style=\"display:none;\">\n",
              "        \n",
              "  <svg xmlns=\"http://www.w3.org/2000/svg\" height=\"24px\"viewBox=\"0 0 24 24\"\n",
              "       width=\"24px\">\n",
              "    <path d=\"M0 0h24v24H0V0z\" fill=\"none\"/>\n",
              "    <path d=\"M18.56 5.44l.94 2.06.94-2.06 2.06-.94-2.06-.94-.94-2.06-.94 2.06-2.06.94zm-11 1L8.5 8.5l.94-2.06 2.06-.94-2.06-.94L8.5 2.5l-.94 2.06-2.06.94zm10 10l.94 2.06.94-2.06 2.06-.94-2.06-.94-.94-2.06-.94 2.06-2.06.94z\"/><path d=\"M17.41 7.96l-1.37-1.37c-.4-.4-.92-.59-1.43-.59-.52 0-1.04.2-1.43.59L10.3 9.45l-7.72 7.72c-.78.78-.78 2.05 0 2.83L4 21.41c.39.39.9.59 1.41.59.51 0 1.02-.2 1.41-.59l7.78-7.78 2.81-2.81c.8-.78.8-2.07 0-2.86zM5.41 20L4 18.59l7.72-7.72 1.47 1.35L5.41 20z\"/>\n",
              "  </svg>\n",
              "      </button>\n",
              "      \n",
              "  <style>\n",
              "    .colab-df-container {\n",
              "      display:flex;\n",
              "      flex-wrap:wrap;\n",
              "      gap: 12px;\n",
              "    }\n",
              "\n",
              "    .colab-df-convert {\n",
              "      background-color: #E8F0FE;\n",
              "      border: none;\n",
              "      border-radius: 50%;\n",
              "      cursor: pointer;\n",
              "      display: none;\n",
              "      fill: #1967D2;\n",
              "      height: 32px;\n",
              "      padding: 0 0 0 0;\n",
              "      width: 32px;\n",
              "    }\n",
              "\n",
              "    .colab-df-convert:hover {\n",
              "      background-color: #E2EBFA;\n",
              "      box-shadow: 0px 1px 2px rgba(60, 64, 67, 0.3), 0px 1px 3px 1px rgba(60, 64, 67, 0.15);\n",
              "      fill: #174EA6;\n",
              "    }\n",
              "\n",
              "    [theme=dark] .colab-df-convert {\n",
              "      background-color: #3B4455;\n",
              "      fill: #D2E3FC;\n",
              "    }\n",
              "\n",
              "    [theme=dark] .colab-df-convert:hover {\n",
              "      background-color: #434B5C;\n",
              "      box-shadow: 0px 1px 3px 1px rgba(0, 0, 0, 0.15);\n",
              "      filter: drop-shadow(0px 1px 2px rgba(0, 0, 0, 0.3));\n",
              "      fill: #FFFFFF;\n",
              "    }\n",
              "  </style>\n",
              "\n",
              "      <script>\n",
              "        const buttonEl =\n",
              "          document.querySelector('#df-1ca86706-50bc-45ad-93ec-b9df81631ee8 button.colab-df-convert');\n",
              "        buttonEl.style.display =\n",
              "          google.colab.kernel.accessAllowed ? 'block' : 'none';\n",
              "\n",
              "        async function convertToInteractive(key) {\n",
              "          const element = document.querySelector('#df-1ca86706-50bc-45ad-93ec-b9df81631ee8');\n",
              "          const dataTable =\n",
              "            await google.colab.kernel.invokeFunction('convertToInteractive',\n",
              "                                                     [key], {});\n",
              "          if (!dataTable) return;\n",
              "\n",
              "          const docLinkHtml = 'Like what you see? Visit the ' +\n",
              "            '<a target=\"_blank\" href=https://colab.research.google.com/notebooks/data_table.ipynb>data table notebook</a>'\n",
              "            + ' to learn more about interactive tables.';\n",
              "          element.innerHTML = '';\n",
              "          dataTable['output_type'] = 'display_data';\n",
              "          await google.colab.output.renderOutput(dataTable, element);\n",
              "          const docLink = document.createElement('div');\n",
              "          docLink.innerHTML = docLinkHtml;\n",
              "          element.appendChild(docLink);\n",
              "        }\n",
              "      </script>\n",
              "    </div>\n",
              "  </div>\n",
              "  "
            ]
          },
          "metadata": {},
          "execution_count": 55
        }
      ],
      "source": [
        "dados_fundamental_1_df"
      ]
    },
    {
      "cell_type": "code",
      "execution_count": null,
      "id": "9f8f1053",
      "metadata": {
        "id": "9f8f1053"
      },
      "outputs": [],
      "source": [
        "dados_fundamental_2_df[[\"Nota_servicos_essenciais\", \"Nota_estrutura_escolar\", \"Nota_da_escola\"]] = scaler.fit_transform(dados_fundamental_2_df[[\"Nota_servicos_essenciais\", \"Nota_estrutura_escolar\", \"Nota_da_escola\"]])"
      ]
    },
    {
      "cell_type": "code",
      "execution_count": null,
      "id": "146d174d",
      "metadata": {
        "scrolled": true,
        "id": "146d174d",
        "colab": {
          "base_uri": "https://localhost:8080/",
          "height": 488
        },
        "outputId": "6cd0ebbc-c35b-401b-c630-933134c35ff2"
      },
      "outputs": [
        {
          "output_type": "execute_result",
          "data": {
            "text/plain": [
              "        Identificador_escola Aprovacao_ensino_fundamental_2  \\\n",
              "2                   11024372                           91.3   \n",
              "3                   11024666                            100   \n",
              "4                   11024682                            100   \n",
              "5                   11024828                           98.7   \n",
              "6                   11024917                           97.1   \n",
              "...                      ...                            ...   \n",
              "130118              53068211                           93.6   \n",
              "130122              53082001                            100   \n",
              "130125              53084039                           99.1   \n",
              "130126              53084055                            100   \n",
              "130128              53086007                             95   \n",
              "\n",
              "       Reprovacao_ensino_fundamental_2 Abandono_ensino_fundamental_2  \\\n",
              "2                                  8.7                             0   \n",
              "3                                    0                             0   \n",
              "4                                    0                             0   \n",
              "5                                  1.3                             0   \n",
              "6                                  2.9                             0   \n",
              "...                                ...                           ...   \n",
              "130118                             6.4                             0   \n",
              "130122                               0                             0   \n",
              "130125                             0.9                             0   \n",
              "130126                               0                             0   \n",
              "130128                               5                             0   \n",
              "\n",
              "        Fornecimento_agua_potavel  Fornecimento_energia  \\\n",
              "2                               1                     0   \n",
              "3                               1                     0   \n",
              "4                               1                     0   \n",
              "5                               1                     0   \n",
              "6                               1                     0   \n",
              "...                           ...                   ...   \n",
              "130118                          1                     0   \n",
              "130122                          1                     0   \n",
              "130125                          1                     0   \n",
              "130126                          1                     0   \n",
              "130128                          1                     0   \n",
              "\n",
              "        Acesso_esgotamento_sanitario  Area_Verde  Acesso_banheiro  Biblioteca  \\\n",
              "2                                  0           0                1           1   \n",
              "3                                  0           0                1           0   \n",
              "4                                  0           0                1           1   \n",
              "5                                  0           0                1           0   \n",
              "6                                  0           0                1           1   \n",
              "...                              ...         ...              ...         ...   \n",
              "130118                             0           0                1           0   \n",
              "130122                             0           0                1           1   \n",
              "130125                             0           1                1           1   \n",
              "130126                             0           0                1           0   \n",
              "130128                             0           1                1           1   \n",
              "\n",
              "        ...  Refeitorio  Sala_atendimento_especial  Acessibilidade  \\\n",
              "2       ...           1                          0               1   \n",
              "3       ...           0                          0               1   \n",
              "4       ...           1                          1               0   \n",
              "5       ...           0                          0               0   \n",
              "6       ...           0                          0               1   \n",
              "...     ...         ...                        ...             ...   \n",
              "130118  ...           0                          1               0   \n",
              "130122  ...           1                          1               0   \n",
              "130125  ...           1                          0               0   \n",
              "130126  ...           0                          0               0   \n",
              "130128  ...           1                          0               0   \n",
              "\n",
              "        Internet_alunos  Alimentação  Atividade_complementar  \\\n",
              "2                     0            1                       0   \n",
              "3                     0            1                       0   \n",
              "4                     1            1                       0   \n",
              "5                     0            1                       0   \n",
              "6                     0            1                       0   \n",
              "...                 ...          ...                     ...   \n",
              "130118                0            1                       1   \n",
              "130122                0            0                       0   \n",
              "130125                1            1                       0   \n",
              "130126                1            0                       0   \n",
              "130128                1            0                       0   \n",
              "\n",
              "        ensino_fundamental_2  Nota_servicos_essenciais  \\\n",
              "2                          1                  6.666667   \n",
              "3                          1                  5.000000   \n",
              "4                          1                  6.666667   \n",
              "5                          1                  3.333333   \n",
              "6                          1                  5.000000   \n",
              "...                      ...                       ...   \n",
              "130118                     1                  3.333333   \n",
              "130122                     1                  3.333333   \n",
              "130125                     1                  6.666667   \n",
              "130126                     1                  3.333333   \n",
              "130128                     1                  5.000000   \n",
              "\n",
              "        Nota_estrutura_escolar Nota_da_escola  \n",
              "2                     2.857143       5.000000  \n",
              "3                     1.428571       3.333333  \n",
              "4                     5.714286       6.666667  \n",
              "5                     1.428571       2.500000  \n",
              "6                     2.857143       4.166667  \n",
              "...                        ...            ...  \n",
              "130118                4.285714       4.166667  \n",
              "130122                7.142857       5.833333  \n",
              "130125                7.142857       7.500000  \n",
              "130126                4.285714       4.166667  \n",
              "130128                7.142857       6.666667  \n",
              "\n",
              "[60829 rows x 23 columns]"
            ],
            "text/html": [
              "\n",
              "  <div id=\"df-c3916806-f4bb-4902-bc40-06752db5a58b\">\n",
              "    <div class=\"colab-df-container\">\n",
              "      <div>\n",
              "<style scoped>\n",
              "    .dataframe tbody tr th:only-of-type {\n",
              "        vertical-align: middle;\n",
              "    }\n",
              "\n",
              "    .dataframe tbody tr th {\n",
              "        vertical-align: top;\n",
              "    }\n",
              "\n",
              "    .dataframe thead th {\n",
              "        text-align: right;\n",
              "    }\n",
              "</style>\n",
              "<table border=\"1\" class=\"dataframe\">\n",
              "  <thead>\n",
              "    <tr style=\"text-align: right;\">\n",
              "      <th></th>\n",
              "      <th>Identificador_escola</th>\n",
              "      <th>Aprovacao_ensino_fundamental_2</th>\n",
              "      <th>Reprovacao_ensino_fundamental_2</th>\n",
              "      <th>Abandono_ensino_fundamental_2</th>\n",
              "      <th>Fornecimento_agua_potavel</th>\n",
              "      <th>Fornecimento_energia</th>\n",
              "      <th>Acesso_esgotamento_sanitario</th>\n",
              "      <th>Area_Verde</th>\n",
              "      <th>Acesso_banheiro</th>\n",
              "      <th>Biblioteca</th>\n",
              "      <th>...</th>\n",
              "      <th>Refeitorio</th>\n",
              "      <th>Sala_atendimento_especial</th>\n",
              "      <th>Acessibilidade</th>\n",
              "      <th>Internet_alunos</th>\n",
              "      <th>Alimentação</th>\n",
              "      <th>Atividade_complementar</th>\n",
              "      <th>ensino_fundamental_2</th>\n",
              "      <th>Nota_servicos_essenciais</th>\n",
              "      <th>Nota_estrutura_escolar</th>\n",
              "      <th>Nota_da_escola</th>\n",
              "    </tr>\n",
              "  </thead>\n",
              "  <tbody>\n",
              "    <tr>\n",
              "      <th>2</th>\n",
              "      <td>11024372</td>\n",
              "      <td>91.3</td>\n",
              "      <td>8.7</td>\n",
              "      <td>0</td>\n",
              "      <td>1</td>\n",
              "      <td>0</td>\n",
              "      <td>0</td>\n",
              "      <td>0</td>\n",
              "      <td>1</td>\n",
              "      <td>1</td>\n",
              "      <td>...</td>\n",
              "      <td>1</td>\n",
              "      <td>0</td>\n",
              "      <td>1</td>\n",
              "      <td>0</td>\n",
              "      <td>1</td>\n",
              "      <td>0</td>\n",
              "      <td>1</td>\n",
              "      <td>6.666667</td>\n",
              "      <td>2.857143</td>\n",
              "      <td>5.000000</td>\n",
              "    </tr>\n",
              "    <tr>\n",
              "      <th>3</th>\n",
              "      <td>11024666</td>\n",
              "      <td>100</td>\n",
              "      <td>0</td>\n",
              "      <td>0</td>\n",
              "      <td>1</td>\n",
              "      <td>0</td>\n",
              "      <td>0</td>\n",
              "      <td>0</td>\n",
              "      <td>1</td>\n",
              "      <td>0</td>\n",
              "      <td>...</td>\n",
              "      <td>0</td>\n",
              "      <td>0</td>\n",
              "      <td>1</td>\n",
              "      <td>0</td>\n",
              "      <td>1</td>\n",
              "      <td>0</td>\n",
              "      <td>1</td>\n",
              "      <td>5.000000</td>\n",
              "      <td>1.428571</td>\n",
              "      <td>3.333333</td>\n",
              "    </tr>\n",
              "    <tr>\n",
              "      <th>4</th>\n",
              "      <td>11024682</td>\n",
              "      <td>100</td>\n",
              "      <td>0</td>\n",
              "      <td>0</td>\n",
              "      <td>1</td>\n",
              "      <td>0</td>\n",
              "      <td>0</td>\n",
              "      <td>0</td>\n",
              "      <td>1</td>\n",
              "      <td>1</td>\n",
              "      <td>...</td>\n",
              "      <td>1</td>\n",
              "      <td>1</td>\n",
              "      <td>0</td>\n",
              "      <td>1</td>\n",
              "      <td>1</td>\n",
              "      <td>0</td>\n",
              "      <td>1</td>\n",
              "      <td>6.666667</td>\n",
              "      <td>5.714286</td>\n",
              "      <td>6.666667</td>\n",
              "    </tr>\n",
              "    <tr>\n",
              "      <th>5</th>\n",
              "      <td>11024828</td>\n",
              "      <td>98.7</td>\n",
              "      <td>1.3</td>\n",
              "      <td>0</td>\n",
              "      <td>1</td>\n",
              "      <td>0</td>\n",
              "      <td>0</td>\n",
              "      <td>0</td>\n",
              "      <td>1</td>\n",
              "      <td>0</td>\n",
              "      <td>...</td>\n",
              "      <td>0</td>\n",
              "      <td>0</td>\n",
              "      <td>0</td>\n",
              "      <td>0</td>\n",
              "      <td>1</td>\n",
              "      <td>0</td>\n",
              "      <td>1</td>\n",
              "      <td>3.333333</td>\n",
              "      <td>1.428571</td>\n",
              "      <td>2.500000</td>\n",
              "    </tr>\n",
              "    <tr>\n",
              "      <th>6</th>\n",
              "      <td>11024917</td>\n",
              "      <td>97.1</td>\n",
              "      <td>2.9</td>\n",
              "      <td>0</td>\n",
              "      <td>1</td>\n",
              "      <td>0</td>\n",
              "      <td>0</td>\n",
              "      <td>0</td>\n",
              "      <td>1</td>\n",
              "      <td>1</td>\n",
              "      <td>...</td>\n",
              "      <td>0</td>\n",
              "      <td>0</td>\n",
              "      <td>1</td>\n",
              "      <td>0</td>\n",
              "      <td>1</td>\n",
              "      <td>0</td>\n",
              "      <td>1</td>\n",
              "      <td>5.000000</td>\n",
              "      <td>2.857143</td>\n",
              "      <td>4.166667</td>\n",
              "    </tr>\n",
              "    <tr>\n",
              "      <th>...</th>\n",
              "      <td>...</td>\n",
              "      <td>...</td>\n",
              "      <td>...</td>\n",
              "      <td>...</td>\n",
              "      <td>...</td>\n",
              "      <td>...</td>\n",
              "      <td>...</td>\n",
              "      <td>...</td>\n",
              "      <td>...</td>\n",
              "      <td>...</td>\n",
              "      <td>...</td>\n",
              "      <td>...</td>\n",
              "      <td>...</td>\n",
              "      <td>...</td>\n",
              "      <td>...</td>\n",
              "      <td>...</td>\n",
              "      <td>...</td>\n",
              "      <td>...</td>\n",
              "      <td>...</td>\n",
              "      <td>...</td>\n",
              "      <td>...</td>\n",
              "    </tr>\n",
              "    <tr>\n",
              "      <th>130118</th>\n",
              "      <td>53068211</td>\n",
              "      <td>93.6</td>\n",
              "      <td>6.4</td>\n",
              "      <td>0</td>\n",
              "      <td>1</td>\n",
              "      <td>0</td>\n",
              "      <td>0</td>\n",
              "      <td>0</td>\n",
              "      <td>1</td>\n",
              "      <td>0</td>\n",
              "      <td>...</td>\n",
              "      <td>0</td>\n",
              "      <td>1</td>\n",
              "      <td>0</td>\n",
              "      <td>0</td>\n",
              "      <td>1</td>\n",
              "      <td>1</td>\n",
              "      <td>1</td>\n",
              "      <td>3.333333</td>\n",
              "      <td>4.285714</td>\n",
              "      <td>4.166667</td>\n",
              "    </tr>\n",
              "    <tr>\n",
              "      <th>130122</th>\n",
              "      <td>53082001</td>\n",
              "      <td>100</td>\n",
              "      <td>0</td>\n",
              "      <td>0</td>\n",
              "      <td>1</td>\n",
              "      <td>0</td>\n",
              "      <td>0</td>\n",
              "      <td>0</td>\n",
              "      <td>1</td>\n",
              "      <td>1</td>\n",
              "      <td>...</td>\n",
              "      <td>1</td>\n",
              "      <td>1</td>\n",
              "      <td>0</td>\n",
              "      <td>0</td>\n",
              "      <td>0</td>\n",
              "      <td>0</td>\n",
              "      <td>1</td>\n",
              "      <td>3.333333</td>\n",
              "      <td>7.142857</td>\n",
              "      <td>5.833333</td>\n",
              "    </tr>\n",
              "    <tr>\n",
              "      <th>130125</th>\n",
              "      <td>53084039</td>\n",
              "      <td>99.1</td>\n",
              "      <td>0.9</td>\n",
              "      <td>0</td>\n",
              "      <td>1</td>\n",
              "      <td>0</td>\n",
              "      <td>0</td>\n",
              "      <td>1</td>\n",
              "      <td>1</td>\n",
              "      <td>1</td>\n",
              "      <td>...</td>\n",
              "      <td>1</td>\n",
              "      <td>0</td>\n",
              "      <td>0</td>\n",
              "      <td>1</td>\n",
              "      <td>1</td>\n",
              "      <td>0</td>\n",
              "      <td>1</td>\n",
              "      <td>6.666667</td>\n",
              "      <td>7.142857</td>\n",
              "      <td>7.500000</td>\n",
              "    </tr>\n",
              "    <tr>\n",
              "      <th>130126</th>\n",
              "      <td>53084055</td>\n",
              "      <td>100</td>\n",
              "      <td>0</td>\n",
              "      <td>0</td>\n",
              "      <td>1</td>\n",
              "      <td>0</td>\n",
              "      <td>0</td>\n",
              "      <td>0</td>\n",
              "      <td>1</td>\n",
              "      <td>0</td>\n",
              "      <td>...</td>\n",
              "      <td>0</td>\n",
              "      <td>0</td>\n",
              "      <td>0</td>\n",
              "      <td>1</td>\n",
              "      <td>0</td>\n",
              "      <td>0</td>\n",
              "      <td>1</td>\n",
              "      <td>3.333333</td>\n",
              "      <td>4.285714</td>\n",
              "      <td>4.166667</td>\n",
              "    </tr>\n",
              "    <tr>\n",
              "      <th>130128</th>\n",
              "      <td>53086007</td>\n",
              "      <td>95</td>\n",
              "      <td>5</td>\n",
              "      <td>0</td>\n",
              "      <td>1</td>\n",
              "      <td>0</td>\n",
              "      <td>0</td>\n",
              "      <td>1</td>\n",
              "      <td>1</td>\n",
              "      <td>1</td>\n",
              "      <td>...</td>\n",
              "      <td>1</td>\n",
              "      <td>0</td>\n",
              "      <td>0</td>\n",
              "      <td>1</td>\n",
              "      <td>0</td>\n",
              "      <td>0</td>\n",
              "      <td>1</td>\n",
              "      <td>5.000000</td>\n",
              "      <td>7.142857</td>\n",
              "      <td>6.666667</td>\n",
              "    </tr>\n",
              "  </tbody>\n",
              "</table>\n",
              "<p>60829 rows × 23 columns</p>\n",
              "</div>\n",
              "      <button class=\"colab-df-convert\" onclick=\"convertToInteractive('df-c3916806-f4bb-4902-bc40-06752db5a58b')\"\n",
              "              title=\"Convert this dataframe to an interactive table.\"\n",
              "              style=\"display:none;\">\n",
              "        \n",
              "  <svg xmlns=\"http://www.w3.org/2000/svg\" height=\"24px\"viewBox=\"0 0 24 24\"\n",
              "       width=\"24px\">\n",
              "    <path d=\"M0 0h24v24H0V0z\" fill=\"none\"/>\n",
              "    <path d=\"M18.56 5.44l.94 2.06.94-2.06 2.06-.94-2.06-.94-.94-2.06-.94 2.06-2.06.94zm-11 1L8.5 8.5l.94-2.06 2.06-.94-2.06-.94L8.5 2.5l-.94 2.06-2.06.94zm10 10l.94 2.06.94-2.06 2.06-.94-2.06-.94-.94-2.06-.94 2.06-2.06.94z\"/><path d=\"M17.41 7.96l-1.37-1.37c-.4-.4-.92-.59-1.43-.59-.52 0-1.04.2-1.43.59L10.3 9.45l-7.72 7.72c-.78.78-.78 2.05 0 2.83L4 21.41c.39.39.9.59 1.41.59.51 0 1.02-.2 1.41-.59l7.78-7.78 2.81-2.81c.8-.78.8-2.07 0-2.86zM5.41 20L4 18.59l7.72-7.72 1.47 1.35L5.41 20z\"/>\n",
              "  </svg>\n",
              "      </button>\n",
              "      \n",
              "  <style>\n",
              "    .colab-df-container {\n",
              "      display:flex;\n",
              "      flex-wrap:wrap;\n",
              "      gap: 12px;\n",
              "    }\n",
              "\n",
              "    .colab-df-convert {\n",
              "      background-color: #E8F0FE;\n",
              "      border: none;\n",
              "      border-radius: 50%;\n",
              "      cursor: pointer;\n",
              "      display: none;\n",
              "      fill: #1967D2;\n",
              "      height: 32px;\n",
              "      padding: 0 0 0 0;\n",
              "      width: 32px;\n",
              "    }\n",
              "\n",
              "    .colab-df-convert:hover {\n",
              "      background-color: #E2EBFA;\n",
              "      box-shadow: 0px 1px 2px rgba(60, 64, 67, 0.3), 0px 1px 3px 1px rgba(60, 64, 67, 0.15);\n",
              "      fill: #174EA6;\n",
              "    }\n",
              "\n",
              "    [theme=dark] .colab-df-convert {\n",
              "      background-color: #3B4455;\n",
              "      fill: #D2E3FC;\n",
              "    }\n",
              "\n",
              "    [theme=dark] .colab-df-convert:hover {\n",
              "      background-color: #434B5C;\n",
              "      box-shadow: 0px 1px 3px 1px rgba(0, 0, 0, 0.15);\n",
              "      filter: drop-shadow(0px 1px 2px rgba(0, 0, 0, 0.3));\n",
              "      fill: #FFFFFF;\n",
              "    }\n",
              "  </style>\n",
              "\n",
              "      <script>\n",
              "        const buttonEl =\n",
              "          document.querySelector('#df-c3916806-f4bb-4902-bc40-06752db5a58b button.colab-df-convert');\n",
              "        buttonEl.style.display =\n",
              "          google.colab.kernel.accessAllowed ? 'block' : 'none';\n",
              "\n",
              "        async function convertToInteractive(key) {\n",
              "          const element = document.querySelector('#df-c3916806-f4bb-4902-bc40-06752db5a58b');\n",
              "          const dataTable =\n",
              "            await google.colab.kernel.invokeFunction('convertToInteractive',\n",
              "                                                     [key], {});\n",
              "          if (!dataTable) return;\n",
              "\n",
              "          const docLinkHtml = 'Like what you see? Visit the ' +\n",
              "            '<a target=\"_blank\" href=https://colab.research.google.com/notebooks/data_table.ipynb>data table notebook</a>'\n",
              "            + ' to learn more about interactive tables.';\n",
              "          element.innerHTML = '';\n",
              "          dataTable['output_type'] = 'display_data';\n",
              "          await google.colab.output.renderOutput(dataTable, element);\n",
              "          const docLink = document.createElement('div');\n",
              "          docLink.innerHTML = docLinkHtml;\n",
              "          element.appendChild(docLink);\n",
              "        }\n",
              "      </script>\n",
              "    </div>\n",
              "  </div>\n",
              "  "
            ]
          },
          "metadata": {},
          "execution_count": 57
        }
      ],
      "source": [
        "dados_fundamental_2_df"
      ]
    },
    {
      "cell_type": "markdown",
      "id": "d6148108",
      "metadata": {
        "id": "d6148108"
      },
      "source": [
        "# Implementando as Regressões"
      ]
    },
    {
      "cell_type": "markdown",
      "id": "8192edc5",
      "metadata": {
        "id": "8192edc5"
      },
      "source": [
        "Preciso prever taxas de aprovação, reprovação e abandono escolar, essas taxas vão de 0 a 100, ou seja do 0 ao 100%, por isso são variaveis quantitativas continuas pois podem assumir qualquer valor dentro deste intervalo.\n",
        "Ja a variavel previsora, é uma qualitativa nominal, pois classificam de forma binaria o dado.\n",
        "Para prever uma variavel quantitativa continua a partir de uma variavel qualitativa nominal, usamos modelos de regressão."
      ]
    },
    {
      "cell_type": "markdown",
      "id": "72996d93",
      "metadata": {
        "id": "72996d93"
      },
      "source": [
        "# Regressão linear multipla"
      ]
    },
    {
      "cell_type": "markdown",
      "id": "211f64ec",
      "metadata": {
        "id": "211f64ec"
      },
      "source": [
        "# Aprovação"
      ]
    },
    {
      "cell_type": "markdown",
      "id": "680d341b",
      "metadata": {
        "id": "680d341b"
      },
      "source": [
        "Primeiro realizei a regressão linear multipla, para prever usando os dados que formam as notas que criei para a escola"
      ]
    },
    {
      "cell_type": "markdown",
      "id": "c8d5d262",
      "metadata": {
        "id": "c8d5d262"
      },
      "source": [
        "Previsores e classes"
      ]
    },
    {
      "cell_type": "markdown",
      "id": "d41bb526",
      "metadata": {
        "id": "d41bb526"
      },
      "source": [
        "Indice de aprovação"
      ]
    },
    {
      "cell_type": "code",
      "execution_count": null,
      "id": "93c5fcaa",
      "metadata": {
        "id": "93c5fcaa"
      },
      "outputs": [],
      "source": [
        "x_aprov_ens_fund_1 = dados_fundamental_1_df.iloc[:, 4:19].values"
      ]
    },
    {
      "cell_type": "code",
      "execution_count": null,
      "id": "a8c82514",
      "metadata": {
        "id": "a8c82514"
      },
      "outputs": [],
      "source": [
        "y_aprov_ens_fund_1 = dados_fundamental_1_df.iloc[:, 1].values"
      ]
    },
    {
      "cell_type": "markdown",
      "id": "59cc27bb",
      "metadata": {
        "id": "59cc27bb"
      },
      "source": [
        "Treinamento e teste"
      ]
    },
    {
      "cell_type": "code",
      "execution_count": null,
      "id": "1081d7bb",
      "metadata": {
        "id": "1081d7bb"
      },
      "outputs": [],
      "source": [
        "x_aprov_ens_fund_1_treinamento, x_aprov_ens_fund_1_teste, y_aprov_ens_fund_1_treinamento, y_aprov_ens_fund_1_teste = train_test_split(x_aprov_ens_fund_1, y_aprov_ens_fund_1, test_size = 0.3, random_state = 0)"
      ]
    },
    {
      "cell_type": "markdown",
      "id": "e3a1382f",
      "metadata": {
        "id": "e3a1382f"
      },
      "source": [
        "Regressor e teste do modelo"
      ]
    },
    {
      "cell_type": "code",
      "execution_count": null,
      "id": "99c86bd0",
      "metadata": {
        "id": "99c86bd0"
      },
      "outputs": [],
      "source": [
        "regressor_multiplo = LinearRegression()"
      ]
    },
    {
      "cell_type": "code",
      "execution_count": null,
      "id": "e9a721bc",
      "metadata": {
        "id": "e9a721bc",
        "colab": {
          "base_uri": "https://localhost:8080/"
        },
        "outputId": "07d4ca8d-4890-40fa-d32c-e7bea36f27d8"
      },
      "outputs": [
        {
          "output_type": "execute_result",
          "data": {
            "text/plain": [
              "LinearRegression()"
            ]
          },
          "metadata": {},
          "execution_count": 62
        }
      ],
      "source": [
        "regressor_multiplo.fit(x_aprov_ens_fund_1_treinamento, y_aprov_ens_fund_1_treinamento)"
      ]
    },
    {
      "cell_type": "markdown",
      "id": "a89ca4e7",
      "metadata": {
        "id": "a89ca4e7"
      },
      "source": [
        "B0"
      ]
    },
    {
      "cell_type": "code",
      "execution_count": null,
      "id": "0572c69b",
      "metadata": {
        "id": "0572c69b",
        "colab": {
          "base_uri": "https://localhost:8080/"
        },
        "outputId": "28833925-2e85-41fe-c9d8-de66edbff3e8"
      },
      "outputs": [
        {
          "output_type": "execute_result",
          "data": {
            "text/plain": [
              "95.74656339365595"
            ]
          },
          "metadata": {},
          "execution_count": 63
        }
      ],
      "source": [
        "regressor_multiplo.intercept_"
      ]
    },
    {
      "cell_type": "markdown",
      "id": "6f360e27",
      "metadata": {
        "id": "6f360e27"
      },
      "source": [
        "B1"
      ]
    },
    {
      "cell_type": "code",
      "execution_count": null,
      "id": "1f11ec90",
      "metadata": {
        "scrolled": true,
        "id": "1f11ec90",
        "colab": {
          "base_uri": "https://localhost:8080/"
        },
        "outputId": "38633c0d-4cf4-462f-8e0c-aac309f8e84b"
      },
      "outputs": [
        {
          "output_type": "execute_result",
          "data": {
            "text/plain": [
              "array([ 0.71659385, -3.23944437, -1.35661804, -0.1583416 ,  1.33400883,\n",
              "        0.10701855,  0.23645263,  0.28603628,  0.68219868,  0.38142578,\n",
              "       -0.42762602, -0.2866546 ,  0.49219166, -1.32230655,  0.75041049])"
            ]
          },
          "metadata": {},
          "execution_count": 64
        }
      ],
      "source": [
        "regressor_multiplo.coef_"
      ]
    },
    {
      "cell_type": "markdown",
      "id": "fe43aad8",
      "metadata": {
        "id": "fe43aad8"
      },
      "source": [
        "Score treinamento"
      ]
    },
    {
      "cell_type": "code",
      "execution_count": null,
      "id": "4bb468ec",
      "metadata": {
        "id": "4bb468ec",
        "colab": {
          "base_uri": "https://localhost:8080/"
        },
        "outputId": "e2777503-2022-4b39-c47a-bdff9a2e2815"
      },
      "outputs": [
        {
          "output_type": "execute_result",
          "data": {
            "text/plain": [
              "0.04835374180602714"
            ]
          },
          "metadata": {},
          "execution_count": 65
        }
      ],
      "source": [
        "regressor_multiplo.score(x_aprov_ens_fund_1_treinamento, y_aprov_ens_fund_1_treinamento)"
      ]
    },
    {
      "cell_type": "markdown",
      "id": "f2b8c35b",
      "metadata": {
        "id": "f2b8c35b"
      },
      "source": [
        "Score teste"
      ]
    },
    {
      "cell_type": "code",
      "execution_count": null,
      "id": "f0212482",
      "metadata": {
        "id": "f0212482",
        "colab": {
          "base_uri": "https://localhost:8080/"
        },
        "outputId": "38e57cad-96fb-4e8a-d387-e467edb1679b"
      },
      "outputs": [
        {
          "output_type": "execute_result",
          "data": {
            "text/plain": [
              "0.05118968176858685"
            ]
          },
          "metadata": {},
          "execution_count": 66
        }
      ],
      "source": [
        "regressor_multiplo.score(x_aprov_ens_fund_1_teste, y_aprov_ens_fund_1_teste)"
      ]
    },
    {
      "cell_type": "markdown",
      "id": "4f4d67f8",
      "metadata": {
        "id": "4f4d67f8"
      },
      "source": [
        "Previsões"
      ]
    },
    {
      "cell_type": "code",
      "execution_count": null,
      "id": "0340ac98",
      "metadata": {
        "id": "0340ac98"
      },
      "outputs": [],
      "source": [
        "previsoes = regressor_multiplo.predict(x_aprov_ens_fund_1_teste)"
      ]
    },
    {
      "cell_type": "code",
      "execution_count": null,
      "id": "2f2341df",
      "metadata": {
        "id": "2f2341df"
      },
      "outputs": [],
      "source": [
        "previsoes"
      ]
    },
    {
      "cell_type": "markdown",
      "id": "591d7705",
      "metadata": {
        "id": "591d7705"
      },
      "source": [
        "Valor real"
      ]
    },
    {
      "cell_type": "code",
      "execution_count": null,
      "id": "3c237af5",
      "metadata": {
        "id": "3c237af5",
        "colab": {
          "base_uri": "https://localhost:8080/"
        },
        "outputId": "164cc8b6-cbe1-4803-e6b7-d2c045f1bce9"
      },
      "outputs": [
        {
          "output_type": "execute_result",
          "data": {
            "text/plain": [
              "array([100, 95.7, 100, ..., 88.9, 100, 100], dtype=object)"
            ]
          },
          "metadata": {},
          "execution_count": 68
        }
      ],
      "source": [
        "y_aprov_ens_fund_1_teste"
      ]
    },
    {
      "cell_type": "markdown",
      "id": "422c6021",
      "metadata": {
        "id": "422c6021"
      },
      "source": [
        "Margem de erro"
      ]
    },
    {
      "cell_type": "code",
      "execution_count": null,
      "id": "1784bfdb",
      "metadata": {
        "id": "1784bfdb"
      },
      "outputs": [],
      "source": [
        "mean_absolute_error(y_aprov_ens_fund_1_teste, previsoes)"
      ]
    },
    {
      "cell_type": "markdown",
      "id": "5a3d42f1",
      "metadata": {
        "id": "5a3d42f1"
      },
      "source": [
        "# Abandono"
      ]
    },
    {
      "cell_type": "code",
      "execution_count": null,
      "id": "ff41724a",
      "metadata": {
        "id": "ff41724a"
      },
      "outputs": [],
      "source": [
        "x_aban_ens_fund_1 = dados_fundamental_1_df.iloc[:, 4:19].values"
      ]
    },
    {
      "cell_type": "code",
      "execution_count": null,
      "id": "836b56b9",
      "metadata": {
        "id": "836b56b9"
      },
      "outputs": [],
      "source": [
        "y_aban_ens_fund_1 = dados_fundamental_1_df.iloc[:, 3].values"
      ]
    },
    {
      "cell_type": "code",
      "execution_count": null,
      "id": "af65e124",
      "metadata": {
        "id": "af65e124"
      },
      "outputs": [],
      "source": [
        "x_aban_ens_fund_1_treinamento, x_aban_ens_fund_1_teste, y_aban_ens_fund_1_treinamento, y_aban_ens_fund_1_teste = train_test_split(x_aban_ens_fund_1, y_aban_ens_fund_1, test_size = 0.3, random_state = 0)"
      ]
    },
    {
      "cell_type": "code",
      "execution_count": null,
      "id": "55f48b60",
      "metadata": {
        "id": "55f48b60"
      },
      "outputs": [],
      "source": [
        "regressor_multiplo = LinearRegression()"
      ]
    },
    {
      "cell_type": "code",
      "execution_count": null,
      "id": "5db07d01",
      "metadata": {
        "id": "5db07d01",
        "outputId": "532c1a7e-abc3-41a0-96d0-8bd3a692b3d2",
        "colab": {
          "base_uri": "https://localhost:8080/"
        }
      },
      "outputs": [
        {
          "output_type": "execute_result",
          "data": {
            "text/plain": [
              "LinearRegression()"
            ]
          },
          "metadata": {},
          "execution_count": 73
        }
      ],
      "source": [
        "regressor_multiplo.fit(x_aban_ens_fund_1_treinamento, y_aban_ens_fund_1_treinamento)"
      ]
    },
    {
      "cell_type": "code",
      "execution_count": null,
      "id": "c243e46f",
      "metadata": {
        "id": "c243e46f",
        "outputId": "d5c0fd7d-66bb-4ad2-9908-1651eb0bc5b7",
        "colab": {
          "base_uri": "https://localhost:8080/"
        }
      },
      "outputs": [
        {
          "output_type": "execute_result",
          "data": {
            "text/plain": [
              "1.2061676940348809"
            ]
          },
          "metadata": {},
          "execution_count": 74
        }
      ],
      "source": [
        "regressor_multiplo.intercept_"
      ]
    },
    {
      "cell_type": "code",
      "execution_count": null,
      "id": "263654a7",
      "metadata": {
        "id": "263654a7",
        "outputId": "8478aa7b-879d-4522-a49c-9883c6961dc1",
        "colab": {
          "base_uri": "https://localhost:8080/"
        }
      },
      "outputs": [
        {
          "output_type": "execute_result",
          "data": {
            "text/plain": [
              "array([-0.17084966,  2.03598485,  0.83738514,  0.07039118, -0.35505039,\n",
              "        0.06603256,  0.00416008, -0.05234102, -0.28348244, -0.15081217,\n",
              "        0.14523604,  0.21819928, -0.25589345,  0.31821252, -0.20052752])"
            ]
          },
          "metadata": {},
          "execution_count": 75
        }
      ],
      "source": [
        "regressor_multiplo.coef_"
      ]
    },
    {
      "cell_type": "code",
      "execution_count": null,
      "id": "54430340",
      "metadata": {
        "id": "54430340",
        "outputId": "ef050dbd-8887-4127-a222-cc1d19917a48",
        "colab": {
          "base_uri": "https://localhost:8080/"
        }
      },
      "outputs": [
        {
          "output_type": "execute_result",
          "data": {
            "text/plain": [
              "0.03680342779177326"
            ]
          },
          "metadata": {},
          "execution_count": 76
        }
      ],
      "source": [
        "regressor_multiplo.score(x_aban_ens_fund_1_treinamento, y_aban_ens_fund_1_treinamento)"
      ]
    },
    {
      "cell_type": "code",
      "execution_count": null,
      "id": "0cd0e162",
      "metadata": {
        "id": "0cd0e162",
        "outputId": "25a58501-9c28-4383-8d8e-2b8c03e33e59",
        "colab": {
          "base_uri": "https://localhost:8080/"
        }
      },
      "outputs": [
        {
          "output_type": "execute_result",
          "data": {
            "text/plain": [
              "0.03372202898943766"
            ]
          },
          "metadata": {},
          "execution_count": 77
        }
      ],
      "source": [
        "regressor_multiplo.score(x_aban_ens_fund_1_teste, y_aban_ens_fund_1_teste)"
      ]
    },
    {
      "cell_type": "code",
      "execution_count": null,
      "id": "81088a90",
      "metadata": {
        "id": "81088a90"
      },
      "outputs": [],
      "source": [
        "previsoes = regressor_multiplo.predict(x_aban_ens_fund_1_teste)"
      ]
    },
    {
      "cell_type": "code",
      "execution_count": null,
      "id": "e59a9b17",
      "metadata": {
        "id": "e59a9b17",
        "outputId": "5ef9c033-9037-4e18-bd5b-0a3e3edb7509",
        "colab": {
          "base_uri": "https://localhost:8080/"
        }
      },
      "outputs": [
        {
          "output_type": "execute_result",
          "data": {
            "text/plain": [
              "array([1.21667945, 1.21667945, 0.99848016, ..., 2.40911498, 1.06586728,\n",
              "       1.22479486])"
            ]
          },
          "metadata": {},
          "execution_count": 79
        }
      ],
      "source": [
        "previsoes"
      ]
    },
    {
      "cell_type": "code",
      "execution_count": null,
      "id": "752e04a7",
      "metadata": {
        "id": "752e04a7",
        "outputId": "ffb88030-a592-43cb-f604-dc74092222cc",
        "colab": {
          "base_uri": "https://localhost:8080/"
        }
      },
      "outputs": [
        {
          "output_type": "execute_result",
          "data": {
            "text/plain": [
              "array([100, 95.7, 100, ..., 88.9, 100, 100], dtype=object)"
            ]
          },
          "metadata": {},
          "execution_count": 80
        }
      ],
      "source": [
        "y_aprov_ens_fund_1_teste"
      ]
    },
    {
      "cell_type": "code",
      "execution_count": null,
      "id": "a74ebe30",
      "metadata": {
        "id": "a74ebe30",
        "outputId": "b92d9cad-f595-45a2-c7d0-6d92ad054e09",
        "colab": {
          "base_uri": "https://localhost:8080/"
        }
      },
      "outputs": [
        {
          "output_type": "execute_result",
          "data": {
            "text/plain": [
              "1.5524449941592635"
            ]
          },
          "metadata": {},
          "execution_count": 81
        }
      ],
      "source": [
        "mean_absolute_error(y_aban_ens_fund_1_teste, previsoes)"
      ]
    },
    {
      "cell_type": "markdown",
      "id": "fe905cfc",
      "metadata": {
        "id": "fe905cfc"
      },
      "source": [
        "# Linear simples com a nota"
      ]
    },
    {
      "cell_type": "markdown",
      "id": "ee97bf82",
      "metadata": {
        "id": "ee97bf82"
      },
      "source": [
        "Previsor e Classe"
      ]
    },
    {
      "cell_type": "code",
      "execution_count": null,
      "id": "323fa360",
      "metadata": {
        "id": "323fa360"
      },
      "outputs": [],
      "source": [
        "x_aprov_ens_fund_1_nota = dados_fundamental_1_df.iloc[:, 22].values"
      ]
    },
    {
      "cell_type": "code",
      "execution_count": null,
      "id": "83f5e052",
      "metadata": {
        "id": "83f5e052"
      },
      "outputs": [],
      "source": [
        "y_aprov_ens_fund_1_nota = dados_fundamental_1_df.iloc[:, 1].values"
      ]
    },
    {
      "cell_type": "markdown",
      "id": "b0aa91a9",
      "metadata": {
        "id": "b0aa91a9"
      },
      "source": [
        "Treino e teste"
      ]
    },
    {
      "cell_type": "code",
      "execution_count": null,
      "id": "a86af52c",
      "metadata": {
        "id": "a86af52c"
      },
      "outputs": [],
      "source": [
        "x_aprov_ens_fund_1_nota_treinamento, x_aprov_ens_fund_1_nota_teste, y_aprov_ens_fund_1_treinamento, y_aprov_ens_fund_1_teste = train_test_split(x_aprov_ens_fund_1_nota, y_aprov_ens_fund_1_nota, test_size = 0.3, random_state = 0)"
      ]
    },
    {
      "cell_type": "code",
      "execution_count": null,
      "id": "42a5e18a",
      "metadata": {
        "id": "42a5e18a"
      },
      "outputs": [],
      "source": [
        "regressor_simples = LinearRegression()"
      ]
    },
    {
      "cell_type": "code",
      "execution_count": null,
      "id": "7e14a470",
      "metadata": {
        "id": "7e14a470",
        "colab": {
          "base_uri": "https://localhost:8080/"
        },
        "outputId": "17534ada-f43f-4ed3-a29b-811dfa706fb8"
      },
      "outputs": [
        {
          "output_type": "execute_result",
          "data": {
            "text/plain": [
              "LinearRegression()"
            ]
          },
          "metadata": {},
          "execution_count": 86
        }
      ],
      "source": [
        "regressor_simples.fit(x_aprov_ens_fund_1_nota_treinamento.reshape(-1, 1), y_aprov_ens_fund_1_treinamento)"
      ]
    },
    {
      "cell_type": "code",
      "execution_count": null,
      "id": "1b8d9f51",
      "metadata": {
        "id": "1b8d9f51",
        "colab": {
          "base_uri": "https://localhost:8080/"
        },
        "outputId": "3570ec55-6f11-4b01-cf99-53dd6916bce0"
      },
      "outputs": [
        {
          "output_type": "execute_result",
          "data": {
            "text/plain": [
              "95.37608214538197"
            ]
          },
          "metadata": {},
          "execution_count": 87
        }
      ],
      "source": [
        "regressor_simples.intercept_"
      ]
    },
    {
      "cell_type": "code",
      "execution_count": null,
      "id": "d4067031",
      "metadata": {
        "id": "d4067031",
        "colab": {
          "base_uri": "https://localhost:8080/"
        },
        "outputId": "68a9704c-c03b-4a03-db6c-911a0bfa7b77"
      },
      "outputs": [
        {
          "output_type": "execute_result",
          "data": {
            "text/plain": [
              "0.00931270319734434"
            ]
          },
          "metadata": {},
          "execution_count": 88
        }
      ],
      "source": [
        "regressor_simples.score(x_aprov_ens_fund_1_nota_treinamento.reshape(-1, 1), y_aprov_ens_fund_1_treinamento)"
      ]
    },
    {
      "cell_type": "code",
      "execution_count": null,
      "id": "8401db07",
      "metadata": {
        "id": "8401db07",
        "colab": {
          "base_uri": "https://localhost:8080/"
        },
        "outputId": "5f004611-b27a-4111-bbea-5e260ca82847"
      },
      "outputs": [
        {
          "output_type": "execute_result",
          "data": {
            "text/plain": [
              "0.009525018698777865"
            ]
          },
          "metadata": {},
          "execution_count": 89
        }
      ],
      "source": [
        "regressor_simples.score(x_aprov_ens_fund_1_nota_teste.reshape(-1, 1), y_aprov_ens_fund_1_teste)"
      ]
    },
    {
      "cell_type": "code",
      "execution_count": null,
      "id": "ecac8037",
      "metadata": {
        "id": "ecac8037"
      },
      "outputs": [],
      "source": [
        "previsoes = regressor_simples.predict(x_aprov_ens_fund_1_nota_treinamento.reshape(-1, 1))"
      ]
    },
    {
      "cell_type": "code",
      "execution_count": null,
      "id": "d16ac2b7",
      "metadata": {
        "id": "d16ac2b7",
        "colab": {
          "base_uri": "https://localhost:8080/"
        },
        "outputId": "35beb2da-f093-4353-c2df-a2f9e0d1b842"
      },
      "outputs": [
        {
          "output_type": "execute_result",
          "data": {
            "text/plain": [
              "array([96.7186647 , 96.38301906, 95.71172778, ..., 97.38995598,\n",
              "       96.38301906, 97.05431034])"
            ]
          },
          "metadata": {},
          "execution_count": 91
        }
      ],
      "source": [
        "previsoes"
      ]
    },
    {
      "cell_type": "code",
      "execution_count": null,
      "id": "0a6f301e",
      "metadata": {
        "id": "0a6f301e"
      },
      "outputs": [],
      "source": [
        "grafico1 = px.scatter(x = x_aprov_ens_fund_1_nota_treinamento, y = y_aprov_ens_fund_1_treinamento)"
      ]
    },
    {
      "cell_type": "code",
      "execution_count": null,
      "id": "87e0354f",
      "metadata": {
        "id": "87e0354f"
      },
      "outputs": [],
      "source": [
        "grafico2 = px.line(x = x_aprov_ens_fund_1_nota_treinamento, y = previsoes)"
      ]
    },
    {
      "cell_type": "code",
      "execution_count": null,
      "id": "07b0f383",
      "metadata": {
        "id": "07b0f383"
      },
      "outputs": [],
      "source": [
        "grafico2.data[0].line.color = 'red'"
      ]
    },
    {
      "cell_type": "code",
      "execution_count": null,
      "id": "21423cf2",
      "metadata": {
        "id": "21423cf2"
      },
      "outputs": [],
      "source": [
        "grafico3 = go.Figure(data = grafico1.data + grafico2.data)"
      ]
    },
    {
      "cell_type": "code",
      "execution_count": null,
      "id": "d9c1889b",
      "metadata": {
        "id": "d9c1889b"
      },
      "outputs": [],
      "source": [
        "grafico3"
      ]
    },
    {
      "cell_type": "code",
      "execution_count": null,
      "id": "27d147f9",
      "metadata": {
        "id": "27d147f9"
      },
      "outputs": [],
      "source": [
        "previsoes_teste = regressor_simples.predict(x_aprov_ens_fund_1_nota_teste.reshape(-1, 1))"
      ]
    },
    {
      "cell_type": "code",
      "execution_count": null,
      "id": "fa071f61",
      "metadata": {
        "id": "fa071f61",
        "colab": {
          "base_uri": "https://localhost:8080/"
        },
        "outputId": "b865a1d6-9ddc-4b58-e9e1-f87b6f1b46d1"
      },
      "outputs": [
        {
          "output_type": "execute_result",
          "data": {
            "text/plain": [
              "array([96.38301906, 96.38301906, 96.04737342, ..., 96.38301906,\n",
              "       96.7186647 , 97.72560162])"
            ]
          },
          "metadata": {},
          "execution_count": 98
        }
      ],
      "source": [
        "previsoes_teste"
      ]
    },
    {
      "cell_type": "code",
      "execution_count": null,
      "id": "2755fba4",
      "metadata": {
        "id": "2755fba4",
        "colab": {
          "base_uri": "https://localhost:8080/"
        },
        "outputId": "674ada37-c553-4037-fa1f-602e773ed94d"
      },
      "outputs": [
        {
          "output_type": "execute_result",
          "data": {
            "text/plain": [
              "array([100, 95.7, 100, ..., 88.9, 100, 100], dtype=object)"
            ]
          },
          "metadata": {},
          "execution_count": 99
        }
      ],
      "source": [
        "y_aprov_ens_fund_1_teste"
      ]
    },
    {
      "cell_type": "code",
      "execution_count": null,
      "id": "04a29902",
      "metadata": {
        "id": "04a29902",
        "colab": {
          "base_uri": "https://localhost:8080/"
        },
        "outputId": "b4b6f7f2-870b-4fbc-f9fd-1e4db302a07e"
      },
      "outputs": [
        {
          "output_type": "execute_result",
          "data": {
            "text/plain": [
              "4.103304110295502"
            ]
          },
          "metadata": {},
          "execution_count": 100
        }
      ],
      "source": [
        "mean_absolute_error(y_aprov_ens_fund_1_teste, previsoes_teste)"
      ]
    },
    {
      "cell_type": "code",
      "execution_count": null,
      "id": "e019ab28",
      "metadata": {
        "id": "e019ab28"
      },
      "outputs": [],
      "source": [
        "grafico1 = px.scatter(x = x_aprov_ens_fund_1_nota_teste, y = y_aprov_ens_fund_1_teste)"
      ]
    },
    {
      "cell_type": "code",
      "execution_count": null,
      "id": "ee3e95cb",
      "metadata": {
        "id": "ee3e95cb"
      },
      "outputs": [],
      "source": [
        "grafico2 = px.line(x = x_aprov_ens_fund_1_nota_teste, y = previsoes_teste)"
      ]
    },
    {
      "cell_type": "code",
      "execution_count": null,
      "id": "184a2f71",
      "metadata": {
        "id": "184a2f71"
      },
      "outputs": [],
      "source": [
        "grafico2.data[0].line.color = 'red'"
      ]
    },
    {
      "cell_type": "code",
      "execution_count": null,
      "id": "fe140121",
      "metadata": {
        "id": "fe140121"
      },
      "outputs": [],
      "source": [
        "grafico3 = go.Figure(data = grafico1.data + grafico2.data)"
      ]
    },
    {
      "cell_type": "code",
      "execution_count": null,
      "id": "a18783dd",
      "metadata": {
        "id": "a18783dd"
      },
      "outputs": [],
      "source": [
        "grafico3.show()"
      ]
    },
    {
      "cell_type": "markdown",
      "id": "2b7ad48a",
      "metadata": {
        "id": "2b7ad48a"
      },
      "source": [
        "# Regressão com arvore de decisão"
      ]
    },
    {
      "cell_type": "code",
      "execution_count": null,
      "id": "d00e20de",
      "metadata": {
        "id": "d00e20de",
        "colab": {
          "base_uri": "https://localhost:8080/"
        },
        "outputId": "aa45150b-5443-4e00-ba53-93461972cc80"
      },
      "outputs": [
        {
          "output_type": "execute_result",
          "data": {
            "text/plain": [
              "array([3.33333333, 2.5       , 5.        , ..., 7.5       , 4.16666667,\n",
              "       5.        ])"
            ]
          },
          "metadata": {},
          "execution_count": 102
        }
      ],
      "source": [
        "x_aprov_ens_fund_1_nota"
      ]
    },
    {
      "cell_type": "code",
      "execution_count": null,
      "id": "2d2d8677",
      "metadata": {
        "id": "2d2d8677",
        "outputId": "642a7eb9-8763-4c22-9571-fd4dd37d678d",
        "colab": {
          "base_uri": "https://localhost:8080/"
        }
      },
      "outputs": [
        {
          "output_type": "execute_result",
          "data": {
            "text/plain": [
              "array([100, 100, 93.3, ..., 100, 100, 100], dtype=object)"
            ]
          },
          "metadata": {},
          "execution_count": 103
        }
      ],
      "source": [
        "y_aprov_ens_fund_1_nota"
      ]
    },
    {
      "cell_type": "code",
      "execution_count": null,
      "id": "3223c529",
      "metadata": {
        "id": "3223c529"
      },
      "outputs": [],
      "source": [
        "regressor_arvore = DecisionTreeRegressor()"
      ]
    },
    {
      "cell_type": "code",
      "execution_count": null,
      "id": "88e59920",
      "metadata": {
        "id": "88e59920",
        "outputId": "09052f65-42f4-4fe4-f9ef-4f6427311641",
        "colab": {
          "base_uri": "https://localhost:8080/"
        }
      },
      "outputs": [
        {
          "output_type": "execute_result",
          "data": {
            "text/plain": [
              "DecisionTreeRegressor()"
            ]
          },
          "metadata": {},
          "execution_count": 105
        }
      ],
      "source": [
        "regressor_arvore.fit(x_aprov_ens_fund_1_nota.reshape(-1, 1), y_aprov_ens_fund_1_nota)"
      ]
    },
    {
      "cell_type": "code",
      "execution_count": null,
      "id": "a19a34cd",
      "metadata": {
        "id": "a19a34cd"
      },
      "outputs": [],
      "source": [
        "previsoes = regressor_arvore.predict(x_aprov_ens_fund_1_nota.reshape(-1, 1))"
      ]
    },
    {
      "cell_type": "code",
      "execution_count": null,
      "id": "12c8f1d3",
      "metadata": {
        "id": "12c8f1d3",
        "colab": {
          "base_uri": "https://localhost:8080/"
        },
        "outputId": "a03ef006-a416-4c35-fdb8-1b47ecb2abb4"
      },
      "outputs": [
        {
          "output_type": "execute_result",
          "data": {
            "text/plain": [
              "0.01077727080345292"
            ]
          },
          "metadata": {},
          "execution_count": 107
        }
      ],
      "source": [
        "regressor_arvore.score(x_aprov_ens_fund_1_nota.reshape(-1, 1), y_aprov_ens_fund_1_nota)"
      ]
    },
    {
      "cell_type": "code",
      "execution_count": null,
      "id": "3f4faa71",
      "metadata": {
        "id": "3f4faa71"
      },
      "outputs": [],
      "source": [
        "grafico = px.scatter(x = x_aprov_ens_fund_1_nota, y = y_aprov_ens_fund_1_nota)"
      ]
    },
    {
      "cell_type": "code",
      "execution_count": null,
      "id": "36429605",
      "metadata": {
        "id": "36429605"
      },
      "outputs": [],
      "source": [
        "grafico.add_scatter(x = x_aprov_ens_fund_1_nota, y = previsoes, name = 'Regressão')"
      ]
    },
    {
      "cell_type": "code",
      "execution_count": null,
      "id": "a50fb9b6",
      "metadata": {
        "id": "a50fb9b6"
      },
      "outputs": [],
      "source": [
        "x_teste_arvore = np.arange(min(x_aprov_ens_fund_1_nota), max(x_aprov_ens_fund_1_nota), 0.1)"
      ]
    },
    {
      "cell_type": "code",
      "execution_count": null,
      "id": "069010cc",
      "metadata": {
        "id": "069010cc"
      },
      "outputs": [],
      "source": [
        "x_teste_arvore"
      ]
    },
    {
      "cell_type": "code",
      "execution_count": null,
      "id": "4bad7bc8",
      "metadata": {
        "id": "4bad7bc8"
      },
      "outputs": [],
      "source": [
        "grafico = px.scatter(x = x_aprov_ens_fund_1_nota, y = y_aprov_ens_fund_1_nota)"
      ]
    },
    {
      "cell_type": "code",
      "execution_count": null,
      "id": "184d2131",
      "metadata": {
        "id": "184d2131"
      },
      "outputs": [],
      "source": [
        "grafico.add_scatter(x = x_teste_arvore.reshape(-1, 1), y = regressor_arvore.predict(x_teste_arvore.reshape(-1, 1)), name = 'Regressão')"
      ]
    },
    {
      "cell_type": "code",
      "execution_count": null,
      "id": "38a3b34b",
      "metadata": {
        "id": "38a3b34b"
      },
      "outputs": [],
      "source": [
        "grafico.show()"
      ]
    },
    {
      "cell_type": "code",
      "execution_count": null,
      "id": "a211fb6a",
      "metadata": {
        "id": "a211fb6a",
        "colab": {
          "base_uri": "https://localhost:8080/"
        },
        "outputId": "3042bd5e-944e-41f0-c886-31029336a59c"
      },
      "outputs": [
        {
          "output_type": "execute_result",
          "data": {
            "text/plain": [
              "array([98.07807749])"
            ]
          },
          "metadata": {},
          "execution_count": 109
        }
      ],
      "source": [
        "regressor_arvore.predict([[6]])"
      ]
    },
    {
      "cell_type": "markdown",
      "id": "e0617fd8",
      "metadata": {
        "id": "e0617fd8"
      },
      "source": [
        "# Regressão com redes neurais"
      ]
    },
    {
      "cell_type": "code",
      "execution_count": null,
      "id": "d8609ba5",
      "metadata": {
        "id": "d8609ba5"
      },
      "outputs": [],
      "source": [
        "scaler_x = StandardScaler()"
      ]
    },
    {
      "cell_type": "code",
      "execution_count": null,
      "id": "ae2afa65",
      "metadata": {
        "id": "ae2afa65"
      },
      "outputs": [],
      "source": [
        "x_aprov_ens_fund_scaled = scaler_x.fit_transform(x_aprov_ens_fund_1_nota.reshape(-1, 1))"
      ]
    },
    {
      "cell_type": "code",
      "execution_count": null,
      "id": "1203e6ef",
      "metadata": {
        "id": "1203e6ef"
      },
      "outputs": [],
      "source": [
        "scaler_y = StandardScaler()"
      ]
    },
    {
      "cell_type": "code",
      "execution_count": null,
      "id": "f6138a1f",
      "metadata": {
        "id": "f6138a1f"
      },
      "outputs": [],
      "source": [
        "y_aprov_ens_fund_scaled = scaler_y.fit_transform(y_aprov_ens_fund_1_nota.reshape(-1, 1))"
      ]
    },
    {
      "cell_type": "code",
      "execution_count": null,
      "id": "8f57233d",
      "metadata": {
        "id": "8f57233d"
      },
      "outputs": [],
      "source": [
        "regressor_aprov_ens_fund = MLPRegressor(max_iter = 1000)"
      ]
    },
    {
      "cell_type": "code",
      "execution_count": null,
      "id": "23a06ec3",
      "metadata": {
        "id": "23a06ec3",
        "outputId": "42e6f6cd-4624-4871-e32f-3f9369bc3011",
        "colab": {
          "base_uri": "https://localhost:8080/"
        }
      },
      "outputs": [
        {
          "output_type": "execute_result",
          "data": {
            "text/plain": [
              "MLPRegressor(max_iter=1000)"
            ]
          },
          "metadata": {},
          "execution_count": 115
        }
      ],
      "source": [
        "regressor_aprov_ens_fund.fit(x_aprov_ens_fund_scaled, y_aprov_ens_fund_scaled.ravel())"
      ]
    },
    {
      "cell_type": "code",
      "execution_count": null,
      "id": "4594c418",
      "metadata": {
        "id": "4594c418",
        "outputId": "5b5d23ee-32b4-4a23-a487-d77d8c7bee93",
        "colab": {
          "base_uri": "https://localhost:8080/"
        }
      },
      "outputs": [
        {
          "output_type": "execute_result",
          "data": {
            "text/plain": [
              "0.01070608350880331"
            ]
          },
          "metadata": {},
          "execution_count": 116
        }
      ],
      "source": [
        "regressor_aprov_ens_fund.score(x_aprov_ens_fund_scaled, y_aprov_ens_fund_scaled)"
      ]
    },
    {
      "cell_type": "code",
      "execution_count": null,
      "id": "b7321eed",
      "metadata": {
        "id": "b7321eed",
        "colab": {
          "base_uri": "https://localhost:8080/"
        },
        "outputId": "4f4df7a0-1205-416c-910d-710919b02f3d"
      },
      "outputs": [
        {
          "output_type": "execute_result",
          "data": {
            "text/plain": [
              "array([[45.73970046]])"
            ]
          },
          "metadata": {},
          "execution_count": 117
        }
      ],
      "source": [
        "prever = [[84]]\n",
        "prever = scaler_x.transform(prever)\n",
        "prever"
      ]
    }
  ],
  "metadata": {
    "kernelspec": {
      "display_name": "Python 3 (ipykernel)",
      "language": "python",
      "name": "python3"
    },
    "language_info": {
      "codemirror_mode": {
        "name": "ipython",
        "version": 3
      },
      "file_extension": ".py",
      "mimetype": "text/x-python",
      "name": "python",
      "nbconvert_exporter": "python",
      "pygments_lexer": "ipython3",
      "version": "3.9.13"
    },
    "colab": {
      "provenance": []
    }
  },
  "nbformat": 4,
  "nbformat_minor": 5
}